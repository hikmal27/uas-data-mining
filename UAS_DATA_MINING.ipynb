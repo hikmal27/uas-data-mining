{
 "cells": [
  {
   "cell_type": "markdown",
   "id": "75bb314d-47cf-437d-9b19-1f8465d0168f",
   "metadata": {},
   "source": [
    "Panggil Library Atau Tools Yang Kita Gunakan Pada Proses Visualisasi Dataset Covid-19"
   ]
  },
  {
   "cell_type": "code",
   "execution_count": 136,
   "id": "a8fc2b3a-0c34-43db-b93a-f44d59fb6373",
   "metadata": {},
   "outputs": [],
   "source": [
    "import pandas as pd\n",
    "import numpy as np\n",
    "import matplotlib.pyplot as plt\n",
    "import seaborn as sns"
   ]
  },
  {
   "cell_type": "markdown",
   "id": "30618fb4-b362-409e-b7c7-cfe3c1f9a0bd",
   "metadata": {},
   "source": [
    "Panggil Dataset Yang Kita Butuhkan Ke Dalam Pemrograman Python"
   ]
  },
  {
   "cell_type": "code",
   "execution_count": 137,
   "id": "1dfc46a9-cc89-40a3-8cd0-75e55b172214",
   "metadata": {},
   "outputs": [],
   "source": [
    "cases_conf = pd.read_csv('confirmed_acc.csv')\n",
    "pasien = pd.read_csv('patient.csv')\n",
    "provinsi = pd.read_csv('province.csv',encoding = 'unicode_escape')"
   ]
  },
  {
   "cell_type": "markdown",
   "id": "01fa7de1-1182-4ac3-9764-13090a4f5780",
   "metadata": {},
   "source": [
    "Pada Tahapan Ini Kita Akan Melakukan Prediksi Kenaikan Kasus Covid-19 Tiap Harinya. Jadi Pertama-Tama Kita Import Dahulu Library Atau Tools Yang Kita Butuhkan."
   ]
  },
  {
   "cell_type": "code",
   "execution_count": 138,
   "id": "df38618e-dc8b-43ad-b6b2-2c971fe24edf",
   "metadata": {},
   "outputs": [],
   "source": [
    "from datetime import datetime, timedelta\n",
    "from sklearn.model_selection import train_test_split\n",
    "from sklearn.metrics import mean_squared_error, r2_score\n",
    "from scipy.optimize import curve_fit"
   ]
  },
  {
   "cell_type": "markdown",
   "id": "bf7ece76-5efb-4374-8493-d0f014d90441",
   "metadata": {},
   "source": [
    "Sekarang Kita Lihat 4 Data Pertama Dari Dataset Kasus Yang Terkonfirmasi."
   ]
  },
  {
   "cell_type": "code",
   "execution_count": 139,
   "id": "b1f3f425-cdd2-47ed-bd8b-5c5363c37688",
   "metadata": {},
   "outputs": [
    {
     "data": {
      "text/html": [
       "<div>\n",
       "<style scoped>\n",
       "    .dataframe tbody tr th:only-of-type {\n",
       "        vertical-align: middle;\n",
       "    }\n",
       "\n",
       "    .dataframe tbody tr th {\n",
       "        vertical-align: top;\n",
       "    }\n",
       "\n",
       "    .dataframe thead th {\n",
       "        text-align: right;\n",
       "    }\n",
       "</style>\n",
       "<table border=\"1\" class=\"dataframe\">\n",
       "  <thead>\n",
       "    <tr style=\"text-align: right;\">\n",
       "      <th></th>\n",
       "      <th>date</th>\n",
       "      <th>cases</th>\n",
       "    </tr>\n",
       "  </thead>\n",
       "  <tbody>\n",
       "    <tr>\n",
       "      <th>0</th>\n",
       "      <td>1/22/2020</td>\n",
       "      <td>0</td>\n",
       "    </tr>\n",
       "    <tr>\n",
       "      <th>1</th>\n",
       "      <td>1/23/2020</td>\n",
       "      <td>0</td>\n",
       "    </tr>\n",
       "    <tr>\n",
       "      <th>2</th>\n",
       "      <td>1/24/2020</td>\n",
       "      <td>0</td>\n",
       "    </tr>\n",
       "    <tr>\n",
       "      <th>3</th>\n",
       "      <td>1/25/2020</td>\n",
       "      <td>0</td>\n",
       "    </tr>\n",
       "    <tr>\n",
       "      <th>4</th>\n",
       "      <td>1/26/2020</td>\n",
       "      <td>0</td>\n",
       "    </tr>\n",
       "  </tbody>\n",
       "</table>\n",
       "</div>"
      ],
      "text/plain": [
       "        date  cases\n",
       "0  1/22/2020      0\n",
       "1  1/23/2020      0\n",
       "2  1/24/2020      0\n",
       "3  1/25/2020      0\n",
       "4  1/26/2020      0"
      ]
     },
     "execution_count": 139,
     "metadata": {},
     "output_type": "execute_result"
    }
   ],
   "source": [
    "cases_conf.head()"
   ]
  },
  {
   "cell_type": "markdown",
   "id": "3e64dbdf-c066-4c3d-8a3f-754a00317637",
   "metadata": {},
   "source": [
    "Selanjutnya Kita Konversi Data Tanggal Tersebut Menjadi Total Hari. Disini Kita Mengambil Data Tanggal Awal Yaitu 1 Maret 2020."
   ]
  },
  {
   "cell_type": "code",
   "execution_count": 140,
   "id": "25efd631-764a-4e0c-8906-ef0c21a82960",
   "metadata": {},
   "outputs": [
    {
     "data": {
      "text/html": [
       "<div>\n",
       "<style scoped>\n",
       "    .dataframe tbody tr th:only-of-type {\n",
       "        vertical-align: middle;\n",
       "    }\n",
       "\n",
       "    .dataframe tbody tr th {\n",
       "        vertical-align: top;\n",
       "    }\n",
       "\n",
       "    .dataframe thead th {\n",
       "        text-align: right;\n",
       "    }\n",
       "</style>\n",
       "<table border=\"1\" class=\"dataframe\">\n",
       "  <thead>\n",
       "    <tr style=\"text-align: right;\">\n",
       "      <th></th>\n",
       "      <th>date</th>\n",
       "      <th>days</th>\n",
       "      <th>cases</th>\n",
       "    </tr>\n",
       "  </thead>\n",
       "  <tbody>\n",
       "    <tr>\n",
       "      <th>39</th>\n",
       "      <td>3/1/2020</td>\n",
       "      <td>0</td>\n",
       "      <td>0</td>\n",
       "    </tr>\n",
       "    <tr>\n",
       "      <th>40</th>\n",
       "      <td>3/2/2020</td>\n",
       "      <td>1</td>\n",
       "      <td>2</td>\n",
       "    </tr>\n",
       "    <tr>\n",
       "      <th>41</th>\n",
       "      <td>3/3/2020</td>\n",
       "      <td>2</td>\n",
       "      <td>2</td>\n",
       "    </tr>\n",
       "    <tr>\n",
       "      <th>42</th>\n",
       "      <td>3/4/2020</td>\n",
       "      <td>3</td>\n",
       "      <td>2</td>\n",
       "    </tr>\n",
       "    <tr>\n",
       "      <th>43</th>\n",
       "      <td>3/5/2020</td>\n",
       "      <td>4</td>\n",
       "      <td>2</td>\n",
       "    </tr>\n",
       "    <tr>\n",
       "      <th>44</th>\n",
       "      <td>3/6/2020</td>\n",
       "      <td>5</td>\n",
       "      <td>4</td>\n",
       "    </tr>\n",
       "    <tr>\n",
       "      <th>45</th>\n",
       "      <td>3/7/2020</td>\n",
       "      <td>6</td>\n",
       "      <td>4</td>\n",
       "    </tr>\n",
       "    <tr>\n",
       "      <th>46</th>\n",
       "      <td>3/8/2020</td>\n",
       "      <td>7</td>\n",
       "      <td>6</td>\n",
       "    </tr>\n",
       "    <tr>\n",
       "      <th>47</th>\n",
       "      <td>3/9/2020</td>\n",
       "      <td>8</td>\n",
       "      <td>19</td>\n",
       "    </tr>\n",
       "    <tr>\n",
       "      <th>48</th>\n",
       "      <td>3/10/2020</td>\n",
       "      <td>9</td>\n",
       "      <td>27</td>\n",
       "    </tr>\n",
       "    <tr>\n",
       "      <th>49</th>\n",
       "      <td>3/11/2020</td>\n",
       "      <td>10</td>\n",
       "      <td>34</td>\n",
       "    </tr>\n",
       "    <tr>\n",
       "      <th>50</th>\n",
       "      <td>3/12/2020</td>\n",
       "      <td>11</td>\n",
       "      <td>34</td>\n",
       "    </tr>\n",
       "    <tr>\n",
       "      <th>51</th>\n",
       "      <td>3/13/2020</td>\n",
       "      <td>12</td>\n",
       "      <td>69</td>\n",
       "    </tr>\n",
       "    <tr>\n",
       "      <th>52</th>\n",
       "      <td>3/14/2020</td>\n",
       "      <td>13</td>\n",
       "      <td>96</td>\n",
       "    </tr>\n",
       "    <tr>\n",
       "      <th>53</th>\n",
       "      <td>3/15/2020</td>\n",
       "      <td>14</td>\n",
       "      <td>117</td>\n",
       "    </tr>\n",
       "    <tr>\n",
       "      <th>54</th>\n",
       "      <td>3/16/2020</td>\n",
       "      <td>15</td>\n",
       "      <td>134</td>\n",
       "    </tr>\n",
       "    <tr>\n",
       "      <th>55</th>\n",
       "      <td>3/17/2020</td>\n",
       "      <td>16</td>\n",
       "      <td>172</td>\n",
       "    </tr>\n",
       "    <tr>\n",
       "      <th>56</th>\n",
       "      <td>3/18/2020</td>\n",
       "      <td>17</td>\n",
       "      <td>227</td>\n",
       "    </tr>\n",
       "    <tr>\n",
       "      <th>57</th>\n",
       "      <td>3/19/2020</td>\n",
       "      <td>18</td>\n",
       "      <td>309</td>\n",
       "    </tr>\n",
       "    <tr>\n",
       "      <th>58</th>\n",
       "      <td>3/20/2020</td>\n",
       "      <td>19</td>\n",
       "      <td>369</td>\n",
       "    </tr>\n",
       "    <tr>\n",
       "      <th>59</th>\n",
       "      <td>3/21/2020</td>\n",
       "      <td>20</td>\n",
       "      <td>450</td>\n",
       "    </tr>\n",
       "    <tr>\n",
       "      <th>60</th>\n",
       "      <td>3/22/2020</td>\n",
       "      <td>21</td>\n",
       "      <td>514</td>\n",
       "    </tr>\n",
       "    <tr>\n",
       "      <th>61</th>\n",
       "      <td>3/23/2020</td>\n",
       "      <td>22</td>\n",
       "      <td>579</td>\n",
       "    </tr>\n",
       "    <tr>\n",
       "      <th>62</th>\n",
       "      <td>3/24/2020</td>\n",
       "      <td>23</td>\n",
       "      <td>685</td>\n",
       "    </tr>\n",
       "    <tr>\n",
       "      <th>63</th>\n",
       "      <td>3/25/2020</td>\n",
       "      <td>24</td>\n",
       "      <td>790</td>\n",
       "    </tr>\n",
       "    <tr>\n",
       "      <th>64</th>\n",
       "      <td>3/26/2020</td>\n",
       "      <td>25</td>\n",
       "      <td>893</td>\n",
       "    </tr>\n",
       "    <tr>\n",
       "      <th>65</th>\n",
       "      <td>3/27/2020</td>\n",
       "      <td>26</td>\n",
       "      <td>1046</td>\n",
       "    </tr>\n",
       "    <tr>\n",
       "      <th>66</th>\n",
       "      <td>3/28/2020</td>\n",
       "      <td>27</td>\n",
       "      <td>1155</td>\n",
       "    </tr>\n",
       "    <tr>\n",
       "      <th>67</th>\n",
       "      <td>3/29/2020</td>\n",
       "      <td>28</td>\n",
       "      <td>1285</td>\n",
       "    </tr>\n",
       "    <tr>\n",
       "      <th>68</th>\n",
       "      <td>3/30/2020</td>\n",
       "      <td>29</td>\n",
       "      <td>1414</td>\n",
       "    </tr>\n",
       "    <tr>\n",
       "      <th>69</th>\n",
       "      <td>3/31/2020</td>\n",
       "      <td>30</td>\n",
       "      <td>1528</td>\n",
       "    </tr>\n",
       "    <tr>\n",
       "      <th>70</th>\n",
       "      <td>4/1/2020</td>\n",
       "      <td>31</td>\n",
       "      <td>1677</td>\n",
       "    </tr>\n",
       "    <tr>\n",
       "      <th>71</th>\n",
       "      <td>4/2/2020</td>\n",
       "      <td>32</td>\n",
       "      <td>1790</td>\n",
       "    </tr>\n",
       "    <tr>\n",
       "      <th>72</th>\n",
       "      <td>4/3/2020</td>\n",
       "      <td>33</td>\n",
       "      <td>1986</td>\n",
       "    </tr>\n",
       "    <tr>\n",
       "      <th>73</th>\n",
       "      <td>4/4/2020</td>\n",
       "      <td>34</td>\n",
       "      <td>2092</td>\n",
       "    </tr>\n",
       "    <tr>\n",
       "      <th>74</th>\n",
       "      <td>4/5/2020</td>\n",
       "      <td>35</td>\n",
       "      <td>2273</td>\n",
       "    </tr>\n",
       "    <tr>\n",
       "      <th>75</th>\n",
       "      <td>4/6/2020</td>\n",
       "      <td>36</td>\n",
       "      <td>2491</td>\n",
       "    </tr>\n",
       "    <tr>\n",
       "      <th>76</th>\n",
       "      <td>4/7/2020</td>\n",
       "      <td>37</td>\n",
       "      <td>2738</td>\n",
       "    </tr>\n",
       "    <tr>\n",
       "      <th>77</th>\n",
       "      <td>4/8/2020</td>\n",
       "      <td>38</td>\n",
       "      <td>2956</td>\n",
       "    </tr>\n",
       "    <tr>\n",
       "      <th>78</th>\n",
       "      <td>4/9/2020</td>\n",
       "      <td>39</td>\n",
       "      <td>3293</td>\n",
       "    </tr>\n",
       "    <tr>\n",
       "      <th>79</th>\n",
       "      <td>4/10/2020</td>\n",
       "      <td>40</td>\n",
       "      <td>3512</td>\n",
       "    </tr>\n",
       "  </tbody>\n",
       "</table>\n",
       "</div>"
      ],
      "text/plain": [
       "         date  days  cases\n",
       "39   3/1/2020     0      0\n",
       "40   3/2/2020     1      2\n",
       "41   3/3/2020     2      2\n",
       "42   3/4/2020     3      2\n",
       "43   3/5/2020     4      2\n",
       "44   3/6/2020     5      4\n",
       "45   3/7/2020     6      4\n",
       "46   3/8/2020     7      6\n",
       "47   3/9/2020     8     19\n",
       "48  3/10/2020     9     27\n",
       "49  3/11/2020    10     34\n",
       "50  3/12/2020    11     34\n",
       "51  3/13/2020    12     69\n",
       "52  3/14/2020    13     96\n",
       "53  3/15/2020    14    117\n",
       "54  3/16/2020    15    134\n",
       "55  3/17/2020    16    172\n",
       "56  3/18/2020    17    227\n",
       "57  3/19/2020    18    309\n",
       "58  3/20/2020    19    369\n",
       "59  3/21/2020    20    450\n",
       "60  3/22/2020    21    514\n",
       "61  3/23/2020    22    579\n",
       "62  3/24/2020    23    685\n",
       "63  3/25/2020    24    790\n",
       "64  3/26/2020    25    893\n",
       "65  3/27/2020    26   1046\n",
       "66  3/28/2020    27   1155\n",
       "67  3/29/2020    28   1285\n",
       "68  3/30/2020    29   1414\n",
       "69  3/31/2020    30   1528\n",
       "70   4/1/2020    31   1677\n",
       "71   4/2/2020    32   1790\n",
       "72   4/3/2020    33   1986\n",
       "73   4/4/2020    34   2092\n",
       "74   4/5/2020    35   2273\n",
       "75   4/6/2020    36   2491\n",
       "76   4/7/2020    37   2738\n",
       "77   4/8/2020    38   2956\n",
       "78   4/9/2020    39   3293\n",
       "79  4/10/2020    40   3512"
      ]
     },
     "execution_count": 140,
     "metadata": {},
     "output_type": "execute_result"
    }
   ],
   "source": [
    "df = cases_conf.iloc[39:].copy()\n",
    "df.loc[:, 'days']= df['date'].map(lambda x : (datetime.strptime(x, '%m/%d/%Y') - datetime.strptime(\"3/1/2020\", '%m/%d/%Y')).days)\n",
    "df[['date','days','cases']] #reorder column"
   ]
  },
  {
   "cell_type": "markdown",
   "id": "331fc5f9-5edc-4f99-ad34-b833b01b82ed",
   "metadata": {},
   "source": [
    "Lalu Kita Buat Sebuah Function Atau Method Untuk Proses Prediksi Data Covid-19 Yang Kita Miliki. Disini Kita Menggunakan Library Bawaan Dari Python Ini Sendiri Tetapi Disini Kita Menentukan Nilai Parameter Yang Kita Gunakan Seperti Ini."
   ]
  },
  {
   "cell_type": "code",
   "execution_count": 141,
   "id": "9a014297-7a96-4d35-a630-c90b15b121f2",
   "metadata": {},
   "outputs": [
    {
     "data": {
      "text/plain": [
       "array([6.94453422e-03, 1.88295098e-02, 4.75043830e-02, 1.12095671e-01,\n",
       "       2.48600952e-01, 5.20501753e-01, 1.03312552e+00, 1.95151092e+00,\n",
       "       3.52071069e+00, 6.08657931e+00, 1.01143448e+01, 1.62018648e+01,\n",
       "       2.50845667e+01, 3.76297134e+01, 5.48187449e+01, 7.77178331e+01,\n",
       "       1.07438219e+02, 1.45089136e+02, 1.91726984e+02, 2.48304767e+02,\n",
       "       3.15625683e+02, 3.94304201e+02, 4.84737062e+02, 5.87085640e+02,\n",
       "       7.01270050e+02, 8.26974448e+02, 9.63662219e+02, 1.11059925e+03,\n",
       "       1.26688317e+03, 1.43147639e+03, 1.60324086e+03, 1.78097279e+03,\n",
       "       1.96343565e+03, 2.14939045e+03, 2.33762249e+03, 2.52696388e+03,\n",
       "       2.71631192e+03, 2.90464320e+03, 3.09102366e+03, 3.27461503e+03,\n",
       "       3.45467801e+03, 3.63057262e+03, 3.80175640e+03, 3.96778061e+03,\n",
       "       4.12828520e+03, 4.28299265e+03, 4.43170126e+03, 4.57427802e+03,\n",
       "       4.71065131e+03, 4.84080382e+03, 4.96476551e+03, 5.08260702e+03,\n",
       "       5.19443348e+03, 5.30037872e+03, 5.40060007e+03, 5.49527359e+03,\n",
       "       5.58458980e+03, 5.66874995e+03, 5.74796273e+03, 5.82244133e+03])"
      ]
     },
     "execution_count": 141,
     "metadata": {},
     "output_type": "execute_result"
    }
   ],
   "source": [
    "def gompertz(a, c, t, t_0):\n",
    "    safe_exponent = np.clip(-c * (t - t_0), -100, 100)\n",
    "    Q = a * np.exp(-np.exp(safe_exponent))\n",
    "    return Q\n",
    "\n",
    "x = list(df['days'])\n",
    "y = list(df['cases'])\n",
    "\n",
    "x_train, x_test, y_train, y_test = train_test_split(x,y,train_size=0.9, test_size=0.1, shuffle=False)\n",
    "x_test_added = x_test + list(range((max(x_test)+1), 60))\n",
    "popt, pcov = curve_fit(gompertz, x_train, y_train, method='trf', bounds=([100, 0, 0],[6*max(y_train),0.15, 70]))\n",
    "a, estimated_c, estimated_t_0 = popt\n",
    "y_pred = gompertz(a, estimated_c, x_train+x_test_added, estimated_t_0)\n",
    "\n",
    "y_pred"
   ]
  },
  {
   "cell_type": "markdown",
   "id": "7a56838a-a333-47ab-9880-7351815597db",
   "metadata": {},
   "source": [
    "Sekarang Kita Gambarkan Data Hasil Prediksi Tadi Ke Dalam Grafik / Plot. Disini Kita Membandingkan Antara Nilai Prediksi Dengan Data Aktual Yang Terjadi."
   ]
  },
  {
   "cell_type": "code",
   "execution_count": 142,
   "id": "a6a6b7c2-30b3-4be7-b45d-5e174a5c8bf2",
   "metadata": {},
   "outputs": [
    {
     "data": {
      "text/plain": [
       "<matplotlib.legend.Legend at 0x1af347d4fd0>"
      ]
     },
     "execution_count": 142,
     "metadata": {},
     "output_type": "execute_result"
    },
    {
     "data": {
      "image/png": "[encoded data removed]",
      "text/plain": [
       "<Figure size 640x480 with 1 Axes>"
      ]
     },
     "metadata": {},
     "output_type": "display_data"
    }
   ],
   "source": [
    "plt.plot(x_train+x_test_added, y_pred, linewidth=2, label='predict data') \n",
    "plt.plot(x, y, linewidth=2, color='r', linestyle='dotted', label='train data')\n",
    "# plt.plot(x_test, y_test, linewidth=2, color='g', linestyle='dotted', label='test data')\n",
    "plt.title('prediction vs trained data on covid-19 cases in indonesia\\n')\n",
    "plt.xlabel('days since March 1st 2020')\n",
    "plt.ylabel('confirmed positive')\n",
    "plt.legend(loc='upper left')"
   ]
  },
  {
   "cell_type": "markdown",
   "id": "173ac027-ca8a-4bf1-9353-0b1fe10a571b",
   "metadata": {},
   "source": [
    "Kita Juga Dapat Melihat Hasil Data Prediksi Covid-19 Tadi Ke Dalam Bentuk Tabel. Disini Kita Melihat Hasil Prediksi Covid-19 60 Hari Ke Depannya."
   ]
  },
  {
   "cell_type": "code",
   "execution_count": 143,
   "id": "4f378d92-7efc-4150-bf4f-254379d81413",
   "metadata": {},
   "outputs": [
    {
     "data": {
      "text/html": [
       "<div>\n",
       "<style scoped>\n",
       "    .dataframe tbody tr th:only-of-type {\n",
       "        vertical-align: middle;\n",
       "    }\n",
       "\n",
       "    .dataframe tbody tr th {\n",
       "        vertical-align: top;\n",
       "    }\n",
       "\n",
       "    .dataframe thead th {\n",
       "        text-align: right;\n",
       "    }\n",
       "</style>\n",
       "<table border=\"1\" class=\"dataframe\">\n",
       "  <thead>\n",
       "    <tr style=\"text-align: right;\">\n",
       "      <th></th>\n",
       "      <th>day_pred</th>\n",
       "      <th>cases_pred</th>\n",
       "    </tr>\n",
       "  </thead>\n",
       "  <tbody>\n",
       "    <tr>\n",
       "      <th>0</th>\n",
       "      <td>36</td>\n",
       "      <td>2716.0</td>\n",
       "    </tr>\n",
       "    <tr>\n",
       "      <th>1</th>\n",
       "      <td>37</td>\n",
       "      <td>2905.0</td>\n",
       "    </tr>\n",
       "    <tr>\n",
       "      <th>2</th>\n",
       "      <td>38</td>\n",
       "      <td>3091.0</td>\n",
       "    </tr>\n",
       "    <tr>\n",
       "      <th>3</th>\n",
       "      <td>39</td>\n",
       "      <td>3275.0</td>\n",
       "    </tr>\n",
       "    <tr>\n",
       "      <th>4</th>\n",
       "      <td>40</td>\n",
       "      <td>3455.0</td>\n",
       "    </tr>\n",
       "    <tr>\n",
       "      <th>5</th>\n",
       "      <td>41</td>\n",
       "      <td>3631.0</td>\n",
       "    </tr>\n",
       "    <tr>\n",
       "      <th>6</th>\n",
       "      <td>42</td>\n",
       "      <td>3802.0</td>\n",
       "    </tr>\n",
       "    <tr>\n",
       "      <th>7</th>\n",
       "      <td>43</td>\n",
       "      <td>3968.0</td>\n",
       "    </tr>\n",
       "    <tr>\n",
       "      <th>8</th>\n",
       "      <td>44</td>\n",
       "      <td>4128.0</td>\n",
       "    </tr>\n",
       "    <tr>\n",
       "      <th>9</th>\n",
       "      <td>45</td>\n",
       "      <td>4283.0</td>\n",
       "    </tr>\n",
       "    <tr>\n",
       "      <th>10</th>\n",
       "      <td>46</td>\n",
       "      <td>4432.0</td>\n",
       "    </tr>\n",
       "    <tr>\n",
       "      <th>11</th>\n",
       "      <td>47</td>\n",
       "      <td>4574.0</td>\n",
       "    </tr>\n",
       "    <tr>\n",
       "      <th>12</th>\n",
       "      <td>48</td>\n",
       "      <td>4711.0</td>\n",
       "    </tr>\n",
       "    <tr>\n",
       "      <th>13</th>\n",
       "      <td>49</td>\n",
       "      <td>4841.0</td>\n",
       "    </tr>\n",
       "    <tr>\n",
       "      <th>14</th>\n",
       "      <td>50</td>\n",
       "      <td>4965.0</td>\n",
       "    </tr>\n",
       "    <tr>\n",
       "      <th>15</th>\n",
       "      <td>51</td>\n",
       "      <td>5083.0</td>\n",
       "    </tr>\n",
       "    <tr>\n",
       "      <th>16</th>\n",
       "      <td>52</td>\n",
       "      <td>5194.0</td>\n",
       "    </tr>\n",
       "    <tr>\n",
       "      <th>17</th>\n",
       "      <td>53</td>\n",
       "      <td>5300.0</td>\n",
       "    </tr>\n",
       "    <tr>\n",
       "      <th>18</th>\n",
       "      <td>54</td>\n",
       "      <td>5401.0</td>\n",
       "    </tr>\n",
       "    <tr>\n",
       "      <th>19</th>\n",
       "      <td>55</td>\n",
       "      <td>5495.0</td>\n",
       "    </tr>\n",
       "    <tr>\n",
       "      <th>20</th>\n",
       "      <td>56</td>\n",
       "      <td>5585.0</td>\n",
       "    </tr>\n",
       "    <tr>\n",
       "      <th>21</th>\n",
       "      <td>57</td>\n",
       "      <td>5669.0</td>\n",
       "    </tr>\n",
       "    <tr>\n",
       "      <th>22</th>\n",
       "      <td>58</td>\n",
       "      <td>5748.0</td>\n",
       "    </tr>\n",
       "    <tr>\n",
       "      <th>23</th>\n",
       "      <td>59</td>\n",
       "      <td>5822.0</td>\n",
       "    </tr>\n",
       "  </tbody>\n",
       "</table>\n",
       "</div>"
      ],
      "text/plain": [
       "    day_pred  cases_pred\n",
       "0         36      2716.0\n",
       "1         37      2905.0\n",
       "2         38      3091.0\n",
       "3         39      3275.0\n",
       "4         40      3455.0\n",
       "5         41      3631.0\n",
       "6         42      3802.0\n",
       "7         43      3968.0\n",
       "8         44      4128.0\n",
       "9         45      4283.0\n",
       "10        46      4432.0\n",
       "11        47      4574.0\n",
       "12        48      4711.0\n",
       "13        49      4841.0\n",
       "14        50      4965.0\n",
       "15        51      5083.0\n",
       "16        52      5194.0\n",
       "17        53      5300.0\n",
       "18        54      5401.0\n",
       "19        55      5495.0\n",
       "20        56      5585.0\n",
       "21        57      5669.0\n",
       "22        58      5748.0\n",
       "23        59      5822.0"
      ]
     },
     "execution_count": 143,
     "metadata": {},
     "output_type": "execute_result"
    }
   ],
   "source": [
    "prediksi = pd.DataFrame({'day_pred': x_test_added, 'cases_pred':np.around(y_pred[36:])})\n",
    "prediksi"
   ]
  },
  {
   "cell_type": "markdown",
   "id": "897455cc-4015-4f51-8fba-e4eac7cb8f79",
   "metadata": {},
   "source": [
    "Pertama-Tama Kita Cek Terlebih Dahulu 5 Data Pertama Dari Dataset Pasien Tersebut."
   ]
  },
  {
   "cell_type": "code",
   "execution_count": 144,
   "id": "dce94270-c1aa-4ad3-b7bb-ed1ac8db4b47",
   "metadata": {},
   "outputs": [
    {
     "data": {
      "text/html": [
       "<div>\n",
       "<style scoped>\n",
       "    .dataframe tbody tr th:only-of-type {\n",
       "        vertical-align: middle;\n",
       "    }\n",
       "\n",
       "    .dataframe tbody tr th {\n",
       "        vertical-align: top;\n",
       "    }\n",
       "\n",
       "    .dataframe thead th {\n",
       "        text-align: right;\n",
       "    }\n",
       "</style>\n",
       "<table border=\"1\" class=\"dataframe\">\n",
       "  <thead>\n",
       "    <tr style=\"text-align: right;\">\n",
       "      <th></th>\n",
       "      <th>patient_id</th>\n",
       "      <th>gender</th>\n",
       "      <th>age</th>\n",
       "      <th>nationality</th>\n",
       "      <th>province</th>\n",
       "      <th>current_state</th>\n",
       "      <th>contacted_with</th>\n",
       "      <th>confirmed_date</th>\n",
       "      <th>released_date</th>\n",
       "      <th>deceased_date</th>\n",
       "      <th>hospital</th>\n",
       "    </tr>\n",
       "  </thead>\n",
       "  <tbody>\n",
       "    <tr>\n",
       "      <th>0</th>\n",
       "      <td>1</td>\n",
       "      <td>female</td>\n",
       "      <td>31.0</td>\n",
       "      <td>indonesia</td>\n",
       "      <td>DKI Jakarta</td>\n",
       "      <td>released</td>\n",
       "      <td>NaN</td>\n",
       "      <td>2-Mar-20</td>\n",
       "      <td>13-Mar-20</td>\n",
       "      <td>NaN</td>\n",
       "      <td>RSPI Sulianti Saroso</td>\n",
       "    </tr>\n",
       "    <tr>\n",
       "      <th>1</th>\n",
       "      <td>2</td>\n",
       "      <td>female</td>\n",
       "      <td>64.0</td>\n",
       "      <td>indonesia</td>\n",
       "      <td>DKI Jakarta</td>\n",
       "      <td>released</td>\n",
       "      <td>1.0</td>\n",
       "      <td>2-Mar-20</td>\n",
       "      <td>16-Mar-20</td>\n",
       "      <td>NaN</td>\n",
       "      <td>RSPI Sulianti Saroso</td>\n",
       "    </tr>\n",
       "    <tr>\n",
       "      <th>2</th>\n",
       "      <td>3</td>\n",
       "      <td>female</td>\n",
       "      <td>33.0</td>\n",
       "      <td>indonesia</td>\n",
       "      <td>DKI Jakarta</td>\n",
       "      <td>released</td>\n",
       "      <td>1.0</td>\n",
       "      <td>6-Mar-20</td>\n",
       "      <td>13-Mar-20</td>\n",
       "      <td>NaN</td>\n",
       "      <td>RSPI Sulianti Saroso</td>\n",
       "    </tr>\n",
       "    <tr>\n",
       "      <th>3</th>\n",
       "      <td>4</td>\n",
       "      <td>female</td>\n",
       "      <td>34.0</td>\n",
       "      <td>indonesia</td>\n",
       "      <td>DKI Jakarta</td>\n",
       "      <td>isolated</td>\n",
       "      <td>1.0</td>\n",
       "      <td>6-Mar-20</td>\n",
       "      <td>NaN</td>\n",
       "      <td>NaN</td>\n",
       "      <td>RSPI Sulianti Saroso</td>\n",
       "    </tr>\n",
       "    <tr>\n",
       "      <th>4</th>\n",
       "      <td>5</td>\n",
       "      <td>male</td>\n",
       "      <td>55.0</td>\n",
       "      <td>indonesia</td>\n",
       "      <td>DKI Jakarta</td>\n",
       "      <td>isolated</td>\n",
       "      <td>1.0</td>\n",
       "      <td>8-Mar-20</td>\n",
       "      <td>NaN</td>\n",
       "      <td>NaN</td>\n",
       "      <td>RS Persahabatan</td>\n",
       "    </tr>\n",
       "  </tbody>\n",
       "</table>\n",
       "</div>"
      ],
      "text/plain": [
       "   patient_id  gender   age nationality     province current_state  \\\n",
       "0           1  female  31.0   indonesia  DKI Jakarta      released   \n",
       "1           2  female  64.0   indonesia  DKI Jakarta      released   \n",
       "2           3  female  33.0   indonesia  DKI Jakarta      released   \n",
       "3           4  female  34.0   indonesia  DKI Jakarta      isolated   \n",
       "4           5    male  55.0   indonesia  DKI Jakarta      isolated   \n",
       "\n",
       "   contacted_with confirmed_date released_date deceased_date  \\\n",
       "0             NaN       2-Mar-20     13-Mar-20           NaN   \n",
       "1             1.0       2-Mar-20     16-Mar-20           NaN   \n",
       "2             1.0       6-Mar-20     13-Mar-20           NaN   \n",
       "3             1.0       6-Mar-20           NaN           NaN   \n",
       "4             1.0       8-Mar-20           NaN           NaN   \n",
       "\n",
       "               hospital  \n",
       "0  RSPI Sulianti Saroso  \n",
       "1  RSPI Sulianti Saroso  \n",
       "2  RSPI Sulianti Saroso  \n",
       "3  RSPI Sulianti Saroso  \n",
       "4       RS Persahabatan  "
      ]
     },
     "execution_count": 144,
     "metadata": {},
     "output_type": "execute_result"
    }
   ],
   "source": [
    "pasien.head()"
   ]
  },
  {
   "cell_type": "markdown",
   "id": "df5ce914-de07-4b10-8e78-31d46832c80e",
   "metadata": {},
   "source": [
    "Selanjutnya Kita Lihat Informasi Dari Dataset Ini Seperti Banyaknya Data Dan Kolom Yang Digunakan Pada Dataset Ini."
   ]
  },
  {
   "cell_type": "code",
   "execution_count": 145,
   "id": "c334506e-3dc7-4581-91ec-5f28dbbc22d2",
   "metadata": {},
   "outputs": [
    {
     "name": "stdout",
     "output_type": "stream",
     "text": [
      "<class 'pandas.core.frame.DataFrame'>\n",
      "RangeIndex: 893 entries, 0 to 892\n",
      "Data columns (total 11 columns):\n",
      " #   Column          Non-Null Count  Dtype  \n",
      "---  ------          --------------  -----  \n",
      " 0   patient_id      893 non-null    int64  \n",
      " 1   gender          156 non-null    object \n",
      " 2   age             156 non-null    float64\n",
      " 3   nationality     156 non-null    object \n",
      " 4   province        156 non-null    object \n",
      " 5   current_state   166 non-null    object \n",
      " 6   contacted_with  27 non-null     float64\n",
      " 7   confirmed_date  893 non-null    object \n",
      " 8   released_date   5 non-null      object \n",
      " 9   deceased_date   4 non-null      object \n",
      " 10  hospital        17 non-null     object \n",
      "dtypes: float64(2), int64(1), object(8)\n",
      "memory usage: 76.9+ KB\n"
     ]
    }
   ],
   "source": [
    "pasien.info()"
   ]
  },
  {
   "cell_type": "markdown",
   "id": "ed6ebf68-e94d-46c2-8df1-ff242735389b",
   "metadata": {},
   "source": [
    "Kita Hitung Banyaknya Kelompok Data Berdasarkan Kolom Current_state."
   ]
  },
  {
   "cell_type": "code",
   "execution_count": 146,
   "id": "a56ff04f-bbf4-499e-b8af-8ad818be6790",
   "metadata": {},
   "outputs": [
    {
     "data": {
      "text/plain": [
       "current_state\n",
       "isolated    143\n",
       "deceased     15\n",
       "released      8\n",
       "Name: count, dtype: int64"
      ]
     },
     "execution_count": 146,
     "metadata": {},
     "output_type": "execute_result"
    }
   ],
   "source": [
    "pasien['current_state'].value_counts()"
   ]
  },
  {
   "cell_type": "markdown",
   "id": "c2693cc2-3405-40a0-8a6f-aede0bf50901",
   "metadata": {},
   "source": [
    "Lalu Hitung Rata-Rata Umur Berdasarkan Kolom Gender Atau Jenis Kelamin Dari Pasien Yang Ada Pada Dataset Tersebut."
   ]
  },
  {
   "cell_type": "code",
   "execution_count": 147,
   "id": "b0c91d7a-7d44-407e-b54f-c07390cb7987",
   "metadata": {},
   "outputs": [
    {
     "name": "stdout",
     "output_type": "stream",
     "text": [
      "Distribusi rata-rata umur pasien laki-laki: 48 tahun\n",
      "Distribusi rata-rata umur pasien perempuan: 47 tahun\n"
     ]
    }
   ],
   "source": [
    "male = pasien.loc[pasien['gender']=='male','age'].mean()\n",
    "female = pasien.loc[pasien['gender']=='female','age'].mean()\n",
    "print('Distribusi rata-rata umur pasien laki-laki: %i' %male, 'tahun')\n",
    "print('Distribusi rata-rata umur pasien perempuan: %i' %female, 'tahun')"
   ]
  },
  {
   "cell_type": "markdown",
   "id": "9bee5c48-9eb5-46de-b400-a40f8c3732ed",
   "metadata": {},
   "source": [
    "Selanjutnya Kita Lihat Visualisasi Data Ke Dalam Grafik Banyaknya Pasien Berdasarkan Kolom Current_state."
   ]
  },
  {
   "cell_type": "code",
   "execution_count": 148,
   "id": "3ff6119f-2972-4007-af07-b53e6c5635c4",
   "metadata": {},
   "outputs": [
    {
     "data": {
      "image/png": "[encoded data removed]",
      "text/plain": [
       "<Figure size 640x480 with 1 Axes>"
      ]
     },
     "metadata": {},
     "output_type": "display_data"
    }
   ],
   "source": [
    "pasien.current_state.value_counts().plot.bar().grid()"
   ]
  },
  {
   "cell_type": "markdown",
   "id": "91a9495b-120c-4100-99ac-cfcf92e4294d",
   "metadata": {},
   "source": [
    "Disini Kita Gambarkan Juga Grafik Untuk Melihat Data Berdasarkan Data Gender Dan Data Ini Dihitung Berdasarkan Kolom Current_state Pasien."
   ]
  },
  {
   "cell_type": "code",
   "execution_count": 149,
   "id": "f6779d92-1dd2-4469-aae9-11e6e033c50a",
   "metadata": {},
   "outputs": [
    {
     "data": {
      "text/plain": [
       "<Axes: xlabel='gender', ylabel='count'>"
      ]
     },
     "execution_count": 149,
     "metadata": {},
     "output_type": "execute_result"
    },
    {
     "data": {
      "image/png": "[encoded data removed]",
      "text/plain": [
       "<Figure size 640x480 with 1 Axes>"
      ]
     },
     "metadata": {},
     "output_type": "display_data"
    }
   ],
   "source": [
    "sns.countplot(x='gender', hue='current_state', data=pasien)"
   ]
  },
  {
   "cell_type": "markdown",
   "id": "e100ac1b-c162-4be3-8a79-9ae1dcde12da",
   "metadata": {},
   "source": [
    "Tampilkan Grafik Data Pasien Berdasarkan Provinsi Dari Pasien Tersebut."
   ]
  },
  {
   "cell_type": "code",
   "execution_count": 150,
   "id": "7413ab84-6927-4db3-8a2d-86098f2230f9",
   "metadata": {},
   "outputs": [
    {
     "data": {
      "text/plain": [
       "<Axes: xlabel='province'>"
      ]
     },
     "execution_count": 150,
     "metadata": {},
     "output_type": "execute_result"
    },
    {
     "data": {
      "image/png": "[encoded data removed]",
      "text/plain": [
       "<Figure size 640x480 with 1 Axes>"
      ]
     },
     "metadata": {},
     "output_type": "display_data"
    }
   ],
   "source": [
    "pasien.province.value_counts().plot.bar()"
   ]
  },
  {
   "cell_type": "markdown",
   "id": "70641946-3f8d-48ee-9ad5-80475494c88d",
   "metadata": {},
   "source": [
    "Sekarang Kita Lihat Banyaknya Pasien Yang Positif Covid-19 Beredasarkan Tanggal Terkonfirmasinya Dan Data Pasien Ini Ditampilkan Dalam Bentuk Grafik."
   ]
  },
  {
   "cell_type": "code",
   "execution_count": 151,
   "id": "a0005d74-e1f9-417f-a3c0-b277e6268c5b",
   "metadata": {},
   "outputs": [
    {
     "data": {
      "text/plain": [
       "<Axes: xlabel='confirmed_date'>"
      ]
     },
     "execution_count": 151,
     "metadata": {},
     "output_type": "execute_result"
    },
    {
     "data": {
      "image/png": "[encoded data removed]",
      "text/plain": [
       "<Figure size 1500x500 with 1 Axes>"
      ]
     },
     "metadata": {},
     "output_type": "display_data"
    }
   ],
   "source": [
    "plt.figure(figsize=(15,5))\n",
    "pasien.confirmed_date.value_counts().plot.bar()"
   ]
  },
  {
   "cell_type": "code",
   "execution_count": 152,
   "id": "234a1a1b-44ed-4482-abfd-05f8af32c156",
   "metadata": {},
   "outputs": [
    {
     "data": {
      "text/html": [
       "<div>\n",
       "<style scoped>\n",
       "    .dataframe tbody tr th:only-of-type {\n",
       "        vertical-align: middle;\n",
       "    }\n",
       "\n",
       "    .dataframe tbody tr th {\n",
       "        vertical-align: top;\n",
       "    }\n",
       "\n",
       "    .dataframe thead th {\n",
       "        text-align: right;\n",
       "    }\n",
       "</style>\n",
       "<table border=\"1\" class=\"dataframe\">\n",
       "  <thead>\n",
       "    <tr style=\"text-align: right;\">\n",
       "      <th></th>\n",
       "      <th>province_id</th>\n",
       "      <th>province_name</th>\n",
       "      <th>island</th>\n",
       "      <th>iso_code</th>\n",
       "      <th>capital_city</th>\n",
       "      <th>population</th>\n",
       "      <th>population_kmsquare</th>\n",
       "      <th>confirmed</th>\n",
       "      <th>deceased</th>\n",
       "      <th>released</th>\n",
       "      <th>longitude</th>\n",
       "      <th>latitude</th>\n",
       "    </tr>\n",
       "  </thead>\n",
       "  <tbody>\n",
       "    <tr>\n",
       "      <th>0</th>\n",
       "      <td>1</td>\n",
       "      <td>Aceh</td>\n",
       "      <td>Sumatra</td>\n",
       "      <td>AC</td>\n",
       "      <td>Banda Aceh</td>\n",
       "      <td>4906835</td>\n",
       "      <td>86</td>\n",
       "      <td>4</td>\n",
       "      <td>0</td>\n",
       "      <td>0</td>\n",
       "      <td>9.672.895</td>\n",
       "      <td>3.869.994</td>\n",
       "    </tr>\n",
       "    <tr>\n",
       "      <th>1</th>\n",
       "      <td>2</td>\n",
       "      <td>Bali</td>\n",
       "      <td>Kepulauan Nusa Tenggara</td>\n",
       "      <td>BA</td>\n",
       "      <td>Denpasar</td>\n",
       "      <td>4104900</td>\n",
       "      <td>738</td>\n",
       "      <td>9</td>\n",
       "      <td>2</td>\n",
       "      <td>0</td>\n",
       "      <td>11.512.255</td>\n",
       "      <td>-825.731</td>\n",
       "    </tr>\n",
       "    <tr>\n",
       "      <th>2</th>\n",
       "      <td>3</td>\n",
       "      <td>Banten</td>\n",
       "      <td>Jawa</td>\n",
       "      <td>BT</td>\n",
       "      <td>Serang</td>\n",
       "      <td>11704877</td>\n",
       "      <td>1298</td>\n",
       "      <td>84</td>\n",
       "      <td>4</td>\n",
       "      <td>1</td>\n",
       "      <td>106.160.889</td>\n",
       "      <td>-6.315.299</td>\n",
       "    </tr>\n",
       "    <tr>\n",
       "      <th>3</th>\n",
       "      <td>4</td>\n",
       "      <td>Bengkulu</td>\n",
       "      <td>Sumatra</td>\n",
       "      <td>BE</td>\n",
       "      <td>Bengkulu</td>\n",
       "      <td>1844800</td>\n",
       "      <td>93</td>\n",
       "      <td>0</td>\n",
       "      <td>0</td>\n",
       "      <td>0</td>\n",
       "      <td>102.315.674</td>\n",
       "      <td>-3.414.725</td>\n",
       "    </tr>\n",
       "    <tr>\n",
       "      <th>4</th>\n",
       "      <td>5</td>\n",
       "      <td>DI Yogyakarta</td>\n",
       "      <td>Jawa</td>\n",
       "      <td>YO</td>\n",
       "      <td>Yogyakarta</td>\n",
       "      <td>3553100</td>\n",
       "      <td>1134</td>\n",
       "      <td>22</td>\n",
       "      <td>2</td>\n",
       "      <td>1</td>\n",
       "      <td>110.390.625</td>\n",
       "      <td>-7.863.382</td>\n",
       "    </tr>\n",
       "  </tbody>\n",
       "</table>\n",
       "</div>"
      ],
      "text/plain": [
       "   province_id   province_name                   island iso_code capital_city  \\\n",
       "0            1            Aceh                  Sumatra       AC   Banda Aceh   \n",
       "1            2            Bali  Kepulauan Nusa Tenggara       BA     Denpasar   \n",
       "2            3          Banten                     Jawa       BT       Serang   \n",
       "3            4        Bengkulu                  Sumatra       BE     Bengkulu   \n",
       "4            5   DI Yogyakarta                     Jawa       YO   Yogyakarta   \n",
       "\n",
       "   population  population_kmsquare  confirmed  deceased  released  \\\n",
       "0     4906835                   86          4         0         0   \n",
       "1     4104900                  738          9         2         0   \n",
       "2    11704877                 1298         84         4         1   \n",
       "3     1844800                   93          0         0         0   \n",
       "4     3553100                 1134         22         2         1   \n",
       "\n",
       "     longitude    latitude  \n",
       "0    9.672.895   3.869.994  \n",
       "1   11.512.255    -825.731  \n",
       "2  106.160.889  -6.315.299  \n",
       "3  102.315.674  -3.414.725  \n",
       "4  110.390.625  -7.863.382  "
      ]
     },
     "execution_count": 152,
     "metadata": {},
     "output_type": "execute_result"
    }
   ],
   "source": [
    "provinsi.head(5)"
   ]
  },
  {
   "cell_type": "markdown",
   "id": "98c709c8-a159-4603-8c7d-bed421bd593c",
   "metadata": {},
   "source": [
    "Selanjutnya Kita Lihat Banyaknya Data Pada Dataset Dan Struktur Kolom Dari Dataset Ini."
   ]
  },
  {
   "cell_type": "code",
   "execution_count": 153,
   "id": "bc2d7046-77d7-4ac1-871a-69f3100de7f6",
   "metadata": {},
   "outputs": [
    {
     "name": "stdout",
     "output_type": "stream",
     "text": [
      "Total Data :  (35, 12) \n",
      "\n",
      "<class 'pandas.core.frame.DataFrame'>\n",
      "RangeIndex: 35 entries, 0 to 34\n",
      "Data columns (total 12 columns):\n",
      " #   Column               Non-Null Count  Dtype \n",
      "---  ------               --------------  ----- \n",
      " 0   province_id          35 non-null     int64 \n",
      " 1   province_name        35 non-null     object\n",
      " 2   island               35 non-null     object\n",
      " 3   iso_code             35 non-null     object\n",
      " 4   capital_city         35 non-null     object\n",
      " 5   population           35 non-null     int64 \n",
      " 6   population_kmsquare  35 non-null     int64 \n",
      " 7   confirmed            35 non-null     int64 \n",
      " 8   deceased             35 non-null     int64 \n",
      " 9   released             35 non-null     int64 \n",
      " 10  longitude            35 non-null     object\n",
      " 11  latitude             35 non-null     object\n",
      "dtypes: int64(6), object(6)\n",
      "memory usage: 3.4+ KB\n"
     ]
    }
   ],
   "source": [
    "print(\"Total Data : \", provinsi.shape,\"\\n\")\n",
    "provinsi.info()"
   ]
  },
  {
   "cell_type": "markdown",
   "id": "24a45805-39d3-4d75-9852-210714849021",
   "metadata": {},
   "source": [
    "Lalu Kita Hitung Banyaknya Data Berdasarkan Pengelompokan Kolom Island (Pulau)."
   ]
  },
  {
   "cell_type": "code",
   "execution_count": 154,
   "id": "7e56f20d-1d67-49ff-84c4-bc9b301211fe",
   "metadata": {},
   "outputs": [
    {
     "data": {
      "text/plain": [
       "island\n",
       "Sumatra                    10\n",
       "Jawa                        6\n",
       "Sulawesi                    6\n",
       "Kalimantan                  5\n",
       "Kepulauan Nusa Tenggara     3\n",
       "Kepulauan Maluku            2\n",
       "Papua                       2\n",
       "Unknown                     1\n",
       "Name: count, dtype: int64"
      ]
     },
     "execution_count": 154,
     "metadata": {},
     "output_type": "execute_result"
    }
   ],
   "source": [
    "provinsi['island'].value_counts()"
   ]
  },
  {
   "cell_type": "markdown",
   "id": "bb41a37e-c3ba-4d31-884f-eba74543c7da",
   "metadata": {},
   "source": [
    "Method FungsiGroup Yang Digunakan Untuk Menghitung Banyaknya Jumlah Korban Yang Terkonfirmasi Covid-19."
   ]
  },
  {
   "cell_type": "markdown",
   "id": "6dde798c-3ac5-45d5-9e4e-d72d8f41f368",
   "metadata": {},
   "source": [
    "Deklarasikan Sintak Atau Method Yang Digunakan Untuk Menghitung Banyaknya Jumlah Korban Yang Terkonfirmasi Covid-19."
   ]
  },
  {
   "cell_type": "code",
   "execution_count": 155,
   "id": "5056ba01-7f19-483c-884b-398a2abdc9cf",
   "metadata": {},
   "outputs": [],
   "source": [
    "def FungsiGroup(column, ds):\n",
    "  dataset = ds\n",
    "  print((dataset.groupby(column).sum()[['confirmed']]).sort_values(by=column, ascending=False))"
   ]
  },
  {
   "cell_type": "code",
   "execution_count": 156,
   "id": "d5a920c0-fd34-40e6-bae4-192756717f27",
   "metadata": {},
   "outputs": [
    {
     "name": "stdout",
     "output_type": "stream",
     "text": [
      "                         confirmed\n",
      "island                            \n",
      "Unknown                         20\n",
      "Sumatra                         29\n",
      "Sulawesi                        35\n",
      "Papua                            7\n",
      "Kepulauan Nusa Tenggara         11\n",
      "Kepulauan Maluku                 2\n",
      "Kalimantan                      22\n",
      "Jawa                           911\n"
     ]
    }
   ],
   "source": [
    "FungsiGroup('island', provinsi)"
   ]
  },
  {
   "cell_type": "markdown",
   "id": "d7500cdd-d5a1-4f5a-bffb-b79d10a00827",
   "metadata": {},
   "source": [
    "Sintak Dibawah Ini Digunakan Untuk Memasukkan Data Pengelompokan Pasien Yang Terkonfirmasi Tadi Ke Dalam Variabel Baru Untuk Proses Perhitungan Linear Regresi."
   ]
  },
  {
   "cell_type": "markdown",
   "id": "f9f45cd9-a60a-4b1c-873f-7189944216a0",
   "metadata": {},
   "source": [
    "Sintak Dibawah Ini Digunakan Untuk Memasukkan Data Pengelompokan Pasien Yang Terkonfirmasi Tadi Ke Dalam Variabel Baru Untuk Proses Perhitungan Linear Regresi."
   ]
  },
  {
   "cell_type": "code",
   "execution_count": 157,
   "id": "746db5ae-1cb7-4e35-a668-586424349409",
   "metadata": {},
   "outputs": [
    {
     "data": {
      "text/html": [
       "<div>\n",
       "<style scoped>\n",
       "    .dataframe tbody tr th:only-of-type {\n",
       "        vertical-align: middle;\n",
       "    }\n",
       "\n",
       "    .dataframe tbody tr th {\n",
       "        vertical-align: top;\n",
       "    }\n",
       "\n",
       "    .dataframe thead th {\n",
       "        text-align: right;\n",
       "    }\n",
       "</style>\n",
       "<table border=\"1\" class=\"dataframe\">\n",
       "  <thead>\n",
       "    <tr style=\"text-align: right;\">\n",
       "      <th></th>\n",
       "      <th>confirmed</th>\n",
       "    </tr>\n",
       "    <tr>\n",
       "      <th>island</th>\n",
       "      <th></th>\n",
       "    </tr>\n",
       "  </thead>\n",
       "  <tbody>\n",
       "    <tr>\n",
       "      <th>Unknown</th>\n",
       "      <td>20</td>\n",
       "    </tr>\n",
       "    <tr>\n",
       "      <th>Sumatra</th>\n",
       "      <td>29</td>\n",
       "    </tr>\n",
       "    <tr>\n",
       "      <th>Sulawesi</th>\n",
       "      <td>35</td>\n",
       "    </tr>\n",
       "    <tr>\n",
       "      <th>Papua</th>\n",
       "      <td>7</td>\n",
       "    </tr>\n",
       "    <tr>\n",
       "      <th>Kepulauan Nusa Tenggara</th>\n",
       "      <td>11</td>\n",
       "    </tr>\n",
       "  </tbody>\n",
       "</table>\n",
       "</div>"
      ],
      "text/plain": [
       "                         confirmed\n",
       "island                            \n",
       "Unknown                         20\n",
       "Sumatra                         29\n",
       "Sulawesi                        35\n",
       "Papua                            7\n",
       "Kepulauan Nusa Tenggara         11"
      ]
     },
     "execution_count": 157,
     "metadata": {},
     "output_type": "execute_result"
    }
   ],
   "source": [
    "df =  pd.DataFrame((provinsi.groupby('island').sum()[['confirmed']]).sort_values(by='island', ascending=False))\n",
    "df.head()"
   ]
  },
  {
   "cell_type": "markdown",
   "id": "81ebeb8d-3a93-4918-b96a-6992fc712e95",
   "metadata": {},
   "source": [
    "Selanjutnya Kita Ubah Dan Hapus Index Dari Kolom Island Tersebut Dan Simpan Pada Kolom Island Baru."
   ]
  },
  {
   "cell_type": "code",
   "execution_count": 158,
   "id": "1b7ffb9f-e34a-424a-8c64-ad7bc522349a",
   "metadata": {},
   "outputs": [],
   "source": [
    "df['island']=df.index\n",
    "df.reset_index(drop=True, inplace=True)"
   ]
  },
  {
   "cell_type": "markdown",
   "id": "0affcf96-d0c1-4298-a5b9-08a1418d4f08",
   "metadata": {},
   "source": [
    "Lalu Tampilkan Data Dari Kolom Island Dan Kolom Confirmed Serta Tampilkan 5 Data Pertama Dari Kolom Ini."
   ]
  },
  {
   "cell_type": "code",
   "execution_count": 159,
   "id": "1f02a017-fbd1-4bd1-bd67-d46859c1ba55",
   "metadata": {},
   "outputs": [
    {
     "data": {
      "text/html": [
       "<div>\n",
       "<style scoped>\n",
       "    .dataframe tbody tr th:only-of-type {\n",
       "        vertical-align: middle;\n",
       "    }\n",
       "\n",
       "    .dataframe tbody tr th {\n",
       "        vertical-align: top;\n",
       "    }\n",
       "\n",
       "    .dataframe thead th {\n",
       "        text-align: right;\n",
       "    }\n",
       "</style>\n",
       "<table border=\"1\" class=\"dataframe\">\n",
       "  <thead>\n",
       "    <tr style=\"text-align: right;\">\n",
       "      <th></th>\n",
       "      <th>island</th>\n",
       "      <th>confirmed</th>\n",
       "    </tr>\n",
       "  </thead>\n",
       "  <tbody>\n",
       "    <tr>\n",
       "      <th>0</th>\n",
       "      <td>Unknown</td>\n",
       "      <td>20</td>\n",
       "    </tr>\n",
       "    <tr>\n",
       "      <th>1</th>\n",
       "      <td>Sumatra</td>\n",
       "      <td>29</td>\n",
       "    </tr>\n",
       "    <tr>\n",
       "      <th>2</th>\n",
       "      <td>Sulawesi</td>\n",
       "      <td>35</td>\n",
       "    </tr>\n",
       "    <tr>\n",
       "      <th>3</th>\n",
       "      <td>Papua</td>\n",
       "      <td>7</td>\n",
       "    </tr>\n",
       "    <tr>\n",
       "      <th>4</th>\n",
       "      <td>Kepulauan Nusa Tenggara</td>\n",
       "      <td>11</td>\n",
       "    </tr>\n",
       "  </tbody>\n",
       "</table>\n",
       "</div>"
      ],
      "text/plain": [
       "                    island  confirmed\n",
       "0                  Unknown         20\n",
       "1                  Sumatra         29\n",
       "2                 Sulawesi         35\n",
       "3                    Papua          7\n",
       "4  Kepulauan Nusa Tenggara         11"
      ]
     },
     "execution_count": 159,
     "metadata": {},
     "output_type": "execute_result"
    }
   ],
   "source": [
    "df = df[['island', 'confirmed']]\n",
    "df.head()"
   ]
  },
  {
   "cell_type": "markdown",
   "id": "2456685a-9167-4bb3-8953-279970e2a3cb",
   "metadata": {},
   "source": [
    "Sintak Dibawah Ini Digunakan Untuk Membuat Grafik Pie Untuk Menampilkan Jumlah Pasien Yang Terkonfirmasi Berdasarkan Kolom Island."
   ]
  },
  {
   "cell_type": "code",
   "execution_count": 160,
   "id": "15595d0d-4531-4ab7-ac7b-7b3d6bea71ee",
   "metadata": {},
   "outputs": [
    {
     "data": {
      "application/vnd.plotly.v1+json": {
       "config": {
        "linkText": "Export to plot.ly",
        "plotlyServerURL": "https://plot.ly",
        "showLink": false
       },
       "data": [
        {
         "domain": {
          "x": [
           0,
           1
          ],
          "y": [
           0,
           1
          ]
         },
         "hovertemplate": "label=%{label}<br>value=%{value}<extra></extra>",
         "labels": [
          "Unknown",
          "Sumatra",
          "Sulawesi",
          "Papua",
          "Kepulauan Nusa Tenggara",
          "Kepulauan Maluku",
          "Kalimantan",
          "Jawa"
         ],
         "legendgroup": "",
         "name": "",
         "showlegend": true,
         "type": "pie",
         "values": [
          20,
          29,
          35,
          7,
          11,
          2,
          22,
          911
         ]
        }
       ],
       "layout": {
        "autosize": true,
        "font": {
         "color": "#242323",
         "size": 15
        },
        "legend": {
         "tracegroupgap": 0
        },
        "margin": {
         "t": 60
        },
        "template": {
         "data": {
          "bar": [
           {
            "error_x": {
             "color": "#2a3f5f"
            },
            "error_y": {
             "color": "#2a3f5f"
            },
            "marker": {
             "line": {
              "color": "#E5ECF6",
              "width": 0.5
             },
             "pattern": {
              "fillmode": "overlay",
              "size": 10,
              "solidity": 0.2
             }
            },
            "type": "bar"
           }
          ],
          "barpolar": [
           {
            "marker": {
             "line": {
              "color": "#E5ECF6",
              "width": 0.5
             },
             "pattern": {
              "fillmode": "overlay",
              "size": 10,
              "solidity": 0.2
             }
            },
            "type": "barpolar"
           }
          ],
          "carpet": [
           {
            "aaxis": {
             "endlinecolor": "#2a3f5f",
             "gridcolor": "white",
             "linecolor": "white",
             "minorgridcolor": "white",
             "startlinecolor": "#2a3f5f"
            },
            "baxis": {
             "endlinecolor": "#2a3f5f",
             "gridcolor": "white",
             "linecolor": "white",
             "minorgridcolor": "white",
             "startlinecolor": "#2a3f5f"
            },
            "type": "carpet"
           }
          ],
          "choropleth": [
           {
            "colorbar": {
             "outlinewidth": 0,
             "ticks": ""
            },
            "type": "choropleth"
           }
          ],
          "contour": [
           {
            "colorbar": {
             "outlinewidth": 0,
             "ticks": ""
            },
            "colorscale": [
             [
              0,
              "#0d0887"
             ],
             [
              0.1111111111111111,
              "#46039f"
             ],
             [
              0.2222222222222222,
              "#7201a8"
             ],
             [
              0.3333333333333333,
              "#9c179e"
             ],
             [
              0.4444444444444444,
              "#bd3786"
             ],
             [
              0.5555555555555556,
              "#d8576b"
             ],
             [
              0.6666666666666666,
              "#ed7953"
             ],
             [
              0.7777777777777778,
              "#fb9f3a"
             ],
             [
              0.8888888888888888,
              "#fdca26"
             ],
             [
              1,
              "#f0f921"
             ]
            ],
            "type": "contour"
           }
          ],
          "contourcarpet": [
           {
            "colorbar": {
             "outlinewidth": 0,
             "ticks": ""
            },
            "type": "contourcarpet"
           }
          ],
          "heatmap": [
           {
            "colorbar": {
             "outlinewidth": 0,
             "ticks": ""
            },
            "colorscale": [
             [
              0,
              "#0d0887"
             ],
             [
              0.1111111111111111,
              "#46039f"
             ],
             [
              0.2222222222222222,
              "#7201a8"
             ],
             [
              0.3333333333333333,
              "#9c179e"
             ],
             [
              0.4444444444444444,
              "#bd3786"
             ],
             [
              0.5555555555555556,
              "#d8576b"
             ],
             [
              0.6666666666666666,
              "#ed7953"
             ],
             [
              0.7777777777777778,
              "#fb9f3a"
             ],
             [
              0.8888888888888888,
              "#fdca26"
             ],
             [
              1,
              "#f0f921"
             ]
            ],
            "type": "heatmap"
           }
          ],
          "heatmapgl": [
           {
            "colorbar": {
             "outlinewidth": 0,
             "ticks": ""
            },
            "colorscale": [
             [
              0,
              "#0d0887"
             ],
             [
              0.1111111111111111,
              "#46039f"
             ],
             [
              0.2222222222222222,
              "#7201a8"
             ],
             [
              0.3333333333333333,
              "#9c179e"
             ],
             [
              0.4444444444444444,
              "#bd3786"
             ],
             [
              0.5555555555555556,
              "#d8576b"
             ],
             [
              0.6666666666666666,
              "#ed7953"
             ],
             [
              0.7777777777777778,
              "#fb9f3a"
             ],
             [
              0.8888888888888888,
              "#fdca26"
             ],
             [
              1,
              "#f0f921"
             ]
            ],
            "type": "heatmapgl"
           }
          ],
          "histogram": [
           {
            "marker": {
             "pattern": {
              "fillmode": "overlay",
              "size": 10,
              "solidity": 0.2
             }
            },
            "type": "histogram"
           }
          ],
          "histogram2d": [
           {
            "colorbar": {
             "outlinewidth": 0,
             "ticks": ""
            },
            "colorscale": [
             [
              0,
              "#0d0887"
             ],
             [
              0.1111111111111111,
              "#46039f"
             ],
             [
              0.2222222222222222,
              "#7201a8"
             ],
             [
              0.3333333333333333,
              "#9c179e"
             ],
             [
              0.4444444444444444,
              "#bd3786"
             ],
             [
              0.5555555555555556,
              "#d8576b"
             ],
             [
              0.6666666666666666,
              "#ed7953"
             ],
             [
              0.7777777777777778,
              "#fb9f3a"
             ],
             [
              0.8888888888888888,
              "#fdca26"
             ],
             [
              1,
              "#f0f921"
             ]
            ],
            "type": "histogram2d"
           }
          ],
          "histogram2dcontour": [
           {
            "colorbar": {
             "outlinewidth": 0,
             "ticks": ""
            },
            "colorscale": [
             [
              0,
              "#0d0887"
             ],
             [
              0.1111111111111111,
              "#46039f"
             ],
             [
              0.2222222222222222,
              "#7201a8"
             ],
             [
              0.3333333333333333,
              "#9c179e"
             ],
             [
              0.4444444444444444,
              "#bd3786"
             ],
             [
              0.5555555555555556,
              "#d8576b"
             ],
             [
              0.6666666666666666,
              "#ed7953"
             ],
             [
              0.7777777777777778,
              "#fb9f3a"
             ],
             [
              0.8888888888888888,
              "#fdca26"
             ],
             [
              1,
              "#f0f921"
             ]
            ],
            "type": "histogram2dcontour"
           }
          ],
          "mesh3d": [
           {
            "colorbar": {
             "outlinewidth": 0,
             "ticks": ""
            },
            "type": "mesh3d"
           }
          ],
          "parcoords": [
           {
            "line": {
             "colorbar": {
              "outlinewidth": 0,
              "ticks": ""
             }
            },
            "type": "parcoords"
           }
          ],
          "pie": [
           {
            "automargin": true,
            "type": "pie"
           }
          ],
          "scatter": [
           {
            "fillpattern": {
             "fillmode": "overlay",
             "size": 10,
             "solidity": 0.2
            },
            "type": "scatter"
           }
          ],
          "scatter3d": [
           {
            "line": {
             "colorbar": {
              "outlinewidth": 0,
              "ticks": ""
             }
            },
            "marker": {
             "colorbar": {
              "outlinewidth": 0,
              "ticks": ""
             }
            },
            "type": "scatter3d"
           }
          ],
          "scattercarpet": [
           {
            "marker": {
             "colorbar": {
              "outlinewidth": 0,
              "ticks": ""
             }
            },
            "type": "scattercarpet"
           }
          ],
          "scattergeo": [
           {
            "marker": {
             "colorbar": {
              "outlinewidth": 0,
              "ticks": ""
             }
            },
            "type": "scattergeo"
           }
          ],
          "scattergl": [
           {
            "marker": {
             "colorbar": {
              "outlinewidth": 0,
              "ticks": ""
             }
            },
            "type": "scattergl"
           }
          ],
          "scattermapbox": [
           {
            "marker": {
             "colorbar": {
              "outlinewidth": 0,
              "ticks": ""
             }
            },
            "type": "scattermapbox"
           }
          ],
          "scatterpolar": [
           {
            "marker": {
             "colorbar": {
              "outlinewidth": 0,
              "ticks": ""
             }
            },
            "type": "scatterpolar"
           }
          ],
          "scatterpolargl": [
           {
            "marker": {
             "colorbar": {
              "outlinewidth": 0,
              "ticks": ""
             }
            },
            "type": "scatterpolargl"
           }
          ],
          "scatterternary": [
           {
            "marker": {
             "colorbar": {
              "outlinewidth": 0,
              "ticks": ""
             }
            },
            "type": "scatterternary"
           }
          ],
          "surface": [
           {
            "colorbar": {
             "outlinewidth": 0,
             "ticks": ""
            },
            "colorscale": [
             [
              0,
              "#0d0887"
             ],
             [
              0.1111111111111111,
              "#46039f"
             ],
             [
              0.2222222222222222,
              "#7201a8"
             ],
             [
              0.3333333333333333,
              "#9c179e"
             ],
             [
              0.4444444444444444,
              "#bd3786"
             ],
             [
              0.5555555555555556,
              "#d8576b"
             ],
             [
              0.6666666666666666,
              "#ed7953"
             ],
             [
              0.7777777777777778,
              "#fb9f3a"
             ],
             [
              0.8888888888888888,
              "#fdca26"
             ],
             [
              1,
              "#f0f921"
             ]
            ],
            "type": "surface"
           }
          ],
          "table": [
           {
            "cells": {
             "fill": {
              "color": "#EBF0F8"
             },
             "line": {
              "color": "white"
             }
            },
            "header": {
             "fill": {
              "color": "#C8D4E3"
             },
             "line": {
              "color": "white"
             }
            },
            "type": "table"
           }
          ]
         },
         "layout": {
          "annotationdefaults": {
           "arrowcolor": "#2a3f5f",
           "arrowhead": 0,
           "arrowwidth": 1
          },
          "autotypenumbers": "strict",
          "coloraxis": {
           "colorbar": {
            "outlinewidth": 0,
            "ticks": ""
           }
          },
          "colorscale": {
           "diverging": [
            [
             0,
             "#8e0152"
            ],
            [
             0.1,
             "#c51b7d"
            ],
            [
             0.2,
             "#de77ae"
            ],
            [
             0.3,
             "#f1b6da"
            ],
            [
             0.4,
             "#fde0ef"
            ],
            [
             0.5,
             "#f7f7f7"
            ],
            [
             0.6,
             "#e6f5d0"
            ],
            [
             0.7,
             "#b8e186"
            ],
            [
             0.8,
             "#7fbc41"
            ],
            [
             0.9,
             "#4d9221"
            ],
            [
             1,
             "#276419"
            ]
           ],
           "sequential": [
            [
             0,
             "#0d0887"
            ],
            [
             0.1111111111111111,
             "#46039f"
            ],
            [
             0.2222222222222222,
             "#7201a8"
            ],
            [
             0.3333333333333333,
             "#9c179e"
            ],
            [
             0.4444444444444444,
             "#bd3786"
            ],
            [
             0.5555555555555556,
             "#d8576b"
            ],
            [
             0.6666666666666666,
             "#ed7953"
            ],
            [
             0.7777777777777778,
             "#fb9f3a"
            ],
            [
             0.8888888888888888,
             "#fdca26"
            ],
            [
             1,
             "#f0f921"
            ]
           ],
           "sequentialminus": [
            [
             0,
             "#0d0887"
            ],
            [
             0.1111111111111111,
             "#46039f"
            ],
            [
             0.2222222222222222,
             "#7201a8"
            ],
            [
             0.3333333333333333,
             "#9c179e"
            ],
            [
             0.4444444444444444,
             "#bd3786"
            ],
            [
             0.5555555555555556,
             "#d8576b"
            ],
            [
             0.6666666666666666,
             "#ed7953"
            ],
            [
             0.7777777777777778,
             "#fb9f3a"
            ],
            [
             0.8888888888888888,
             "#fdca26"
            ],
            [
             1,
             "#f0f921"
            ]
           ]
          },
          "colorway": [
           "#636efa",
           "#EF553B",
           "#00cc96",
           "#ab63fa",
           "#FFA15A",
           "#19d3f3",
           "#FF6692",
           "#B6E880",
           "#FF97FF",
           "#FECB52"
          ],
          "font": {
           "color": "#2a3f5f"
          },
          "geo": {
           "bgcolor": "white",
           "lakecolor": "white",
           "landcolor": "#E5ECF6",
           "showlakes": true,
           "showland": true,
           "subunitcolor": "white"
          },
          "hoverlabel": {
           "align": "left"
          },
          "hovermode": "closest",
          "mapbox": {
           "style": "light"
          },
          "paper_bgcolor": "white",
          "plot_bgcolor": "#E5ECF6",
          "polar": {
           "angularaxis": {
            "gridcolor": "white",
            "linecolor": "white",
            "ticks": ""
           },
           "bgcolor": "#E5ECF6",
           "radialaxis": {
            "gridcolor": "white",
            "linecolor": "white",
            "ticks": ""
           }
          },
          "scene": {
           "xaxis": {
            "backgroundcolor": "#E5ECF6",
            "gridcolor": "white",
            "gridwidth": 2,
            "linecolor": "white",
            "showbackground": true,
            "ticks": "",
            "zerolinecolor": "white"
           },
           "yaxis": {
            "backgroundcolor": "#E5ECF6",
            "gridcolor": "white",
            "gridwidth": 2,
            "linecolor": "white",
            "showbackground": true,
            "ticks": "",
            "zerolinecolor": "white"
           },
           "zaxis": {
            "backgroundcolor": "#E5ECF6",
            "gridcolor": "white",
            "gridwidth": 2,
            "linecolor": "white",
            "showbackground": true,
            "ticks": "",
            "zerolinecolor": "white"
           }
          },
          "shapedefaults": {
           "line": {
            "color": "#2a3f5f"
           }
          },
          "ternary": {
           "aaxis": {
            "gridcolor": "white",
            "linecolor": "white",
            "ticks": ""
           },
           "baxis": {
            "gridcolor": "white",
            "linecolor": "white",
            "ticks": ""
           },
           "bgcolor": "#E5ECF6",
           "caxis": {
            "gridcolor": "white",
            "linecolor": "white",
            "ticks": ""
           }
          },
          "title": {
           "x": 0.05
          },
          "xaxis": {
           "automargin": true,
           "gridcolor": "white",
           "linecolor": "white",
           "ticks": "",
           "title": {
            "standoff": 15
           },
           "zerolinecolor": "white",
           "zerolinewidth": 2
          },
          "yaxis": {
           "automargin": true,
           "gridcolor": "white",
           "linecolor": "white",
           "ticks": "",
           "title": {
            "standoff": 15
           },
           "zerolinecolor": "white",
           "zerolinewidth": 2
          }
         }
        }
       }
      },
      "image/png": "[encoded data removed]",
      "text/html": [
       "<div>                            <div id=\"091c3460-1664-4980-a975-93815947a080\" class=\"plotly-graph-div\" style=\"height:525px; width:100%;\"></div>            <script type=\"text/javascript\">                require([\"plotly\"], function(Plotly) {                    window.PLOTLYENV=window.PLOTLYENV || {};                                    if (document.getElementById(\"091c3460-1664-4980-a975-93815947a080\")) {                    Plotly.newPlot(                        \"091c3460-1664-4980-a975-93815947a080\",                        [{\"domain\":{\"x\":[0.0,1.0],\"y\":[0.0,1.0]},\"hovertemplate\":\"label=%{label}<br>value=%{value}<extra></extra>\",\"labels\":[\"Unknown\",\"Sumatra\",\"Sulawesi\",\"Papua\",\"Kepulauan Nusa Tenggara\",\"Kepulauan Maluku\",\"Kalimantan\",\"Jawa\"],\"legendgroup\":\"\",\"name\":\"\",\"showlegend\":true,\"values\":[20,29,35,7,11,2,22,911],\"type\":\"pie\"}],                        {\"font\":{\"color\":\"#242323\",\"size\":15},\"legend\":{\"tracegroupgap\":0},\"margin\":{\"t\":60},\"template\":{\"data\":{\"barpolar\":[{\"marker\":{\"line\":{\"color\":\"#E5ECF6\",\"width\":0.5},\"pattern\":{\"fillmode\":\"overlay\",\"size\":10,\"solidity\":0.2}},\"type\":\"barpolar\"}],\"bar\":[{\"error_x\":{\"color\":\"#2a3f5f\"},\"error_y\":{\"color\":\"#2a3f5f\"},\"marker\":{\"line\":{\"color\":\"#E5ECF6\",\"width\":0.5},\"pattern\":{\"fillmode\":\"overlay\",\"size\":10,\"solidity\":0.2}},\"type\":\"bar\"}],\"carpet\":[{\"aaxis\":{\"endlinecolor\":\"#2a3f5f\",\"gridcolor\":\"white\",\"linecolor\":\"white\",\"minorgridcolor\":\"white\",\"startlinecolor\":\"#2a3f5f\"},\"baxis\":{\"endlinecolor\":\"#2a3f5f\",\"gridcolor\":\"white\",\"linecolor\":\"white\",\"minorgridcolor\":\"white\",\"startlinecolor\":\"#2a3f5f\"},\"type\":\"carpet\"}],\"choropleth\":[{\"colorbar\":{\"outlinewidth\":0,\"ticks\":\"\"},\"type\":\"choropleth\"}],\"contourcarpet\":[{\"colorbar\":{\"outlinewidth\":0,\"ticks\":\"\"},\"type\":\"contourcarpet\"}],\"contour\":[{\"colorbar\":{\"outlinewidth\":0,\"ticks\":\"\"},\"colorscale\":[[0.0,\"#0d0887\"],[0.1111111111111111,\"#46039f\"],[0.2222222222222222,\"#7201a8\"],[0.3333333333333333,\"#9c179e\"],[0.4444444444444444,\"#bd3786\"],[0.5555555555555556,\"#d8576b\"],[0.6666666666666666,\"#ed7953\"],[0.7777777777777778,\"#fb9f3a\"],[0.8888888888888888,\"#fdca26\"],[1.0,\"#f0f921\"]],\"type\":\"contour\"}],\"heatmapgl\":[{\"colorbar\":{\"outlinewidth\":0,\"ticks\":\"\"},\"colorscale\":[[0.0,\"#0d0887\"],[0.1111111111111111,\"#46039f\"],[0.2222222222222222,\"#7201a8\"],[0.3333333333333333,\"#9c179e\"],[0.4444444444444444,\"#bd3786\"],[0.5555555555555556,\"#d8576b\"],[0.6666666666666666,\"#ed7953\"],[0.7777777777777778,\"#fb9f3a\"],[0.8888888888888888,\"#fdca26\"],[1.0,\"#f0f921\"]],\"type\":\"heatmapgl\"}],\"heatmap\":[{\"colorbar\":{\"outlinewidth\":0,\"ticks\":\"\"},\"colorscale\":[[0.0,\"#0d0887\"],[0.1111111111111111,\"#46039f\"],[0.2222222222222222,\"#7201a8\"],[0.3333333333333333,\"#9c179e\"],[0.4444444444444444,\"#bd3786\"],[0.5555555555555556,\"#d8576b\"],[0.6666666666666666,\"#ed7953\"],[0.7777777777777778,\"#fb9f3a\"],[0.8888888888888888,\"#fdca26\"],[1.0,\"#f0f921\"]],\"type\":\"heatmap\"}],\"histogram2dcontour\":[{\"colorbar\":{\"outlinewidth\":0,\"ticks\":\"\"},\"colorscale\":[[0.0,\"#0d0887\"],[0.1111111111111111,\"#46039f\"],[0.2222222222222222,\"#7201a8\"],[0.3333333333333333,\"#9c179e\"],[0.4444444444444444,\"#bd3786\"],[0.5555555555555556,\"#d8576b\"],[0.6666666666666666,\"#ed7953\"],[0.7777777777777778,\"#fb9f3a\"],[0.8888888888888888,\"#fdca26\"],[1.0,\"#f0f921\"]],\"type\":\"histogram2dcontour\"}],\"histogram2d\":[{\"colorbar\":{\"outlinewidth\":0,\"ticks\":\"\"},\"colorscale\":[[0.0,\"#0d0887\"],[0.1111111111111111,\"#46039f\"],[0.2222222222222222,\"#7201a8\"],[0.3333333333333333,\"#9c179e\"],[0.4444444444444444,\"#bd3786\"],[0.5555555555555556,\"#d8576b\"],[0.6666666666666666,\"#ed7953\"],[0.7777777777777778,\"#fb9f3a\"],[0.8888888888888888,\"#fdca26\"],[1.0,\"#f0f921\"]],\"type\":\"histogram2d\"}],\"histogram\":[{\"marker\":{\"pattern\":{\"fillmode\":\"overlay\",\"size\":10,\"solidity\":0.2}},\"type\":\"histogram\"}],\"mesh3d\":[{\"colorbar\":{\"outlinewidth\":0,\"ticks\":\"\"},\"type\":\"mesh3d\"}],\"parcoords\":[{\"line\":{\"colorbar\":{\"outlinewidth\":0,\"ticks\":\"\"}},\"type\":\"parcoords\"}],\"pie\":[{\"automargin\":true,\"type\":\"pie\"}],\"scatter3d\":[{\"line\":{\"colorbar\":{\"outlinewidth\":0,\"ticks\":\"\"}},\"marker\":{\"colorbar\":{\"outlinewidth\":0,\"ticks\":\"\"}},\"type\":\"scatter3d\"}],\"scattercarpet\":[{\"marker\":{\"colorbar\":{\"outlinewidth\":0,\"ticks\":\"\"}},\"type\":\"scattercarpet\"}],\"scattergeo\":[{\"marker\":{\"colorbar\":{\"outlinewidth\":0,\"ticks\":\"\"}},\"type\":\"scattergeo\"}],\"scattergl\":[{\"marker\":{\"colorbar\":{\"outlinewidth\":0,\"ticks\":\"\"}},\"type\":\"scattergl\"}],\"scattermapbox\":[{\"marker\":{\"colorbar\":{\"outlinewidth\":0,\"ticks\":\"\"}},\"type\":\"scattermapbox\"}],\"scatterpolargl\":[{\"marker\":{\"colorbar\":{\"outlinewidth\":0,\"ticks\":\"\"}},\"type\":\"scatterpolargl\"}],\"scatterpolar\":[{\"marker\":{\"colorbar\":{\"outlinewidth\":0,\"ticks\":\"\"}},\"type\":\"scatterpolar\"}],\"scatter\":[{\"fillpattern\":{\"fillmode\":\"overlay\",\"size\":10,\"solidity\":0.2},\"type\":\"scatter\"}],\"scatterternary\":[{\"marker\":{\"colorbar\":{\"outlinewidth\":0,\"ticks\":\"\"}},\"type\":\"scatterternary\"}],\"surface\":[{\"colorbar\":{\"outlinewidth\":0,\"ticks\":\"\"},\"colorscale\":[[0.0,\"#0d0887\"],[0.1111111111111111,\"#46039f\"],[0.2222222222222222,\"#7201a8\"],[0.3333333333333333,\"#9c179e\"],[0.4444444444444444,\"#bd3786\"],[0.5555555555555556,\"#d8576b\"],[0.6666666666666666,\"#ed7953\"],[0.7777777777777778,\"#fb9f3a\"],[0.8888888888888888,\"#fdca26\"],[1.0,\"#f0f921\"]],\"type\":\"surface\"}],\"table\":[{\"cells\":{\"fill\":{\"color\":\"#EBF0F8\"},\"line\":{\"color\":\"white\"}},\"header\":{\"fill\":{\"color\":\"#C8D4E3\"},\"line\":{\"color\":\"white\"}},\"type\":\"table\"}]},\"layout\":{\"annotationdefaults\":{\"arrowcolor\":\"#2a3f5f\",\"arrowhead\":0,\"arrowwidth\":1},\"autotypenumbers\":\"strict\",\"coloraxis\":{\"colorbar\":{\"outlinewidth\":0,\"ticks\":\"\"}},\"colorscale\":{\"diverging\":[[0,\"#8e0152\"],[0.1,\"#c51b7d\"],[0.2,\"#de77ae\"],[0.3,\"#f1b6da\"],[0.4,\"#fde0ef\"],[0.5,\"#f7f7f7\"],[0.6,\"#e6f5d0\"],[0.7,\"#b8e186\"],[0.8,\"#7fbc41\"],[0.9,\"#4d9221\"],[1,\"#276419\"]],\"sequential\":[[0.0,\"#0d0887\"],[0.1111111111111111,\"#46039f\"],[0.2222222222222222,\"#7201a8\"],[0.3333333333333333,\"#9c179e\"],[0.4444444444444444,\"#bd3786\"],[0.5555555555555556,\"#d8576b\"],[0.6666666666666666,\"#ed7953\"],[0.7777777777777778,\"#fb9f3a\"],[0.8888888888888888,\"#fdca26\"],[1.0,\"#f0f921\"]],\"sequentialminus\":[[0.0,\"#0d0887\"],[0.1111111111111111,\"#46039f\"],[0.2222222222222222,\"#7201a8\"],[0.3333333333333333,\"#9c179e\"],[0.4444444444444444,\"#bd3786\"],[0.5555555555555556,\"#d8576b\"],[0.6666666666666666,\"#ed7953\"],[0.7777777777777778,\"#fb9f3a\"],[0.8888888888888888,\"#fdca26\"],[1.0,\"#f0f921\"]]},\"colorway\":[\"#636efa\",\"#EF553B\",\"#00cc96\",\"#ab63fa\",\"#FFA15A\",\"#19d3f3\",\"#FF6692\",\"#B6E880\",\"#FF97FF\",\"#FECB52\"],\"font\":{\"color\":\"#2a3f5f\"},\"geo\":{\"bgcolor\":\"white\",\"lakecolor\":\"white\",\"landcolor\":\"#E5ECF6\",\"showlakes\":true,\"showland\":true,\"subunitcolor\":\"white\"},\"hoverlabel\":{\"align\":\"left\"},\"hovermode\":\"closest\",\"mapbox\":{\"style\":\"light\"},\"paper_bgcolor\":\"white\",\"plot_bgcolor\":\"#E5ECF6\",\"polar\":{\"angularaxis\":{\"gridcolor\":\"white\",\"linecolor\":\"white\",\"ticks\":\"\"},\"bgcolor\":\"#E5ECF6\",\"radialaxis\":{\"gridcolor\":\"white\",\"linecolor\":\"white\",\"ticks\":\"\"}},\"scene\":{\"xaxis\":{\"backgroundcolor\":\"#E5ECF6\",\"gridcolor\":\"white\",\"gridwidth\":2,\"linecolor\":\"white\",\"showbackground\":true,\"ticks\":\"\",\"zerolinecolor\":\"white\"},\"yaxis\":{\"backgroundcolor\":\"#E5ECF6\",\"gridcolor\":\"white\",\"gridwidth\":2,\"linecolor\":\"white\",\"showbackground\":true,\"ticks\":\"\",\"zerolinecolor\":\"white\"},\"zaxis\":{\"backgroundcolor\":\"#E5ECF6\",\"gridcolor\":\"white\",\"gridwidth\":2,\"linecolor\":\"white\",\"showbackground\":true,\"ticks\":\"\",\"zerolinecolor\":\"white\"}},\"shapedefaults\":{\"line\":{\"color\":\"#2a3f5f\"}},\"ternary\":{\"aaxis\":{\"gridcolor\":\"white\",\"linecolor\":\"white\",\"ticks\":\"\"},\"baxis\":{\"gridcolor\":\"white\",\"linecolor\":\"white\",\"ticks\":\"\"},\"bgcolor\":\"#E5ECF6\",\"caxis\":{\"gridcolor\":\"white\",\"linecolor\":\"white\",\"ticks\":\"\"}},\"title\":{\"x\":0.05},\"xaxis\":{\"automargin\":true,\"gridcolor\":\"white\",\"linecolor\":\"white\",\"ticks\":\"\",\"title\":{\"standoff\":15},\"zerolinecolor\":\"white\",\"zerolinewidth\":2},\"yaxis\":{\"automargin\":true,\"gridcolor\":\"white\",\"linecolor\":\"white\",\"ticks\":\"\",\"title\":{\"standoff\":15},\"zerolinecolor\":\"white\",\"zerolinewidth\":2}}}},                        {\"responsive\": true}                    ).then(function(){\n",
       "                            \n",
       "var gd = document.getElementById('091c3460-1664-4980-a975-93815947a080');\n",
       "var x = new MutationObserver(function (mutations, observer) {{\n",
       "        var display = window.getComputedStyle(gd).display;\n",
       "        if (!display || display === 'none') {{\n",
       "            console.log([gd, 'removed!']);\n",
       "            Plotly.purge(gd);\n",
       "            observer.disconnect();\n",
       "        }}\n",
       "}});\n",
       "\n",
       "// Listen for the removal of the full notebook cells\n",
       "var notebookContainer = gd.closest('#notebook-container');\n",
       "if (notebookContainer) {{\n",
       "    x.observe(notebookContainer, {childList: true});\n",
       "}}\n",
       "\n",
       "// Listen for the clearing of the current output cell\n",
       "var outputEl = gd.closest('.output');\n",
       "if (outputEl) {{\n",
       "    x.observe(outputEl, {childList: true});\n",
       "}}\n",
       "\n",
       "                        })                };                });            </script>        </div>"
      ]
     },
     "metadata": {},
     "output_type": "display_data"
    }
   ],
   "source": [
    "import plotly.express as px\n",
    "import plotly.offline as py\n",
    "from plotly.offline import download_plotlyjs, init_notebook_mode, plot, iplot\n",
    "fig = px.pie( values=df['confirmed'],names=df['island'])\n",
    "fig.update_layout(font=dict(size=15, color=\"#242323\"))   \n",
    "    \n",
    "py.iplot(fig)"
   ]
  },
  {
   "cell_type": "markdown",
   "id": "66446db5-8bdf-4739-bfec-c8ed716b3171",
   "metadata": {},
   "source": [
    "Lalu Kita Copy Data Dari Dataset Provinsi Tadi Ke Dalam Variabel Baru. Disini Kita Hanya Menggunakan Beberapa Kolom Data Saja."
   ]
  },
  {
   "cell_type": "code",
   "execution_count": 161,
   "id": "68edcf6b-465c-44d5-9849-179f8f3c86d9",
   "metadata": {},
   "outputs": [
    {
     "data": {
      "text/html": [
       "<div>\n",
       "<style scoped>\n",
       "    .dataframe tbody tr th:only-of-type {\n",
       "        vertical-align: middle;\n",
       "    }\n",
       "\n",
       "    .dataframe tbody tr th {\n",
       "        vertical-align: top;\n",
       "    }\n",
       "\n",
       "    .dataframe thead th {\n",
       "        text-align: right;\n",
       "    }\n",
       "</style>\n",
       "<table border=\"1\" class=\"dataframe\">\n",
       "  <thead>\n",
       "    <tr style=\"text-align: right;\">\n",
       "      <th></th>\n",
       "      <th>province_name</th>\n",
       "      <th>capital_city</th>\n",
       "      <th>population_kmsquare</th>\n",
       "      <th>confirmed</th>\n",
       "      <th>deceased</th>\n",
       "    </tr>\n",
       "  </thead>\n",
       "  <tbody>\n",
       "    <tr>\n",
       "      <th>0</th>\n",
       "      <td>Aceh</td>\n",
       "      <td>Banda Aceh</td>\n",
       "      <td>86</td>\n",
       "      <td>4</td>\n",
       "      <td>0</td>\n",
       "    </tr>\n",
       "    <tr>\n",
       "      <th>1</th>\n",
       "      <td>Bali</td>\n",
       "      <td>Denpasar</td>\n",
       "      <td>738</td>\n",
       "      <td>9</td>\n",
       "      <td>2</td>\n",
       "    </tr>\n",
       "    <tr>\n",
       "      <th>2</th>\n",
       "      <td>Banten</td>\n",
       "      <td>Serang</td>\n",
       "      <td>1298</td>\n",
       "      <td>84</td>\n",
       "      <td>4</td>\n",
       "    </tr>\n",
       "    <tr>\n",
       "      <th>3</th>\n",
       "      <td>Bengkulu</td>\n",
       "      <td>Bengkulu</td>\n",
       "      <td>93</td>\n",
       "      <td>0</td>\n",
       "      <td>0</td>\n",
       "    </tr>\n",
       "    <tr>\n",
       "      <th>4</th>\n",
       "      <td>DI Yogyakarta</td>\n",
       "      <td>Yogyakarta</td>\n",
       "      <td>1134</td>\n",
       "      <td>22</td>\n",
       "      <td>2</td>\n",
       "    </tr>\n",
       "  </tbody>\n",
       "</table>\n",
       "</div>"
      ],
      "text/plain": [
       "    province_name capital_city  population_kmsquare  confirmed  deceased\n",
       "0            Aceh   Banda Aceh                   86          4         0\n",
       "1            Bali     Denpasar                  738          9         2\n",
       "2          Banten       Serang                 1298         84         4\n",
       "3        Bengkulu     Bengkulu                   93          0         0\n",
       "4   DI Yogyakarta   Yogyakarta                 1134         22         2"
      ]
     },
     "execution_count": 161,
     "metadata": {},
     "output_type": "execute_result"
    }
   ],
   "source": [
    "dataset = provinsi[['province_name', 'capital_city', 'population_kmsquare', 'confirmed', 'deceased']]\n",
    "dataset.head()"
   ]
  },
  {
   "cell_type": "markdown",
   "id": "7d954802-9c54-406b-9062-68cfd21bd9ff",
   "metadata": {},
   "source": [
    "Lalu Kita Cek Banyaknya Nilai Null Dari Setiap Kolom Dari Variabel Yang Baru Saja Di Buat."
   ]
  },
  {
   "cell_type": "code",
   "execution_count": 162,
   "id": "02f77a92-68dc-49b8-b946-5f494f81f4a4",
   "metadata": {},
   "outputs": [
    {
     "data": {
      "text/plain": [
       "province_name          0\n",
       "capital_city           0\n",
       "population_kmsquare    0\n",
       "confirmed              0\n",
       "deceased               0\n",
       "dtype: int64"
      ]
     },
     "execution_count": 162,
     "metadata": {},
     "output_type": "execute_result"
    }
   ],
   "source": [
    "dataset.isnull().sum()"
   ]
  },
  {
   "cell_type": "markdown",
   "id": "dc64f3b9-9720-495c-a514-3b5d7665a1d7",
   "metadata": {},
   "source": [
    "Sintak Ini Digunakan Untuk Meng-Copy Data Dari Variabel Yang Kita Buat Tadi Ke Dalam Variabel Baru. Variabel Ini Digunakan Untuk Proses Linear Regresi."
   ]
  },
  {
   "cell_type": "code",
   "execution_count": 163,
   "id": "bf5541ca-f14d-431f-9faf-dc42fec10912",
   "metadata": {},
   "outputs": [
    {
     "name": "stdout",
     "output_type": "stream",
     "text": [
      "(35, 5)\n"
     ]
    },
    {
     "data": {
      "text/html": [
       "<div>\n",
       "<style scoped>\n",
       "    .dataframe tbody tr th:only-of-type {\n",
       "        vertical-align: middle;\n",
       "    }\n",
       "\n",
       "    .dataframe tbody tr th {\n",
       "        vertical-align: top;\n",
       "    }\n",
       "\n",
       "    .dataframe thead th {\n",
       "        text-align: right;\n",
       "    }\n",
       "</style>\n",
       "<table border=\"1\" class=\"dataframe\">\n",
       "  <thead>\n",
       "    <tr style=\"text-align: right;\">\n",
       "      <th></th>\n",
       "      <th>province_name</th>\n",
       "      <th>capital_city</th>\n",
       "      <th>population_kmsquare</th>\n",
       "      <th>confirmed</th>\n",
       "      <th>deceased</th>\n",
       "    </tr>\n",
       "  </thead>\n",
       "  <tbody>\n",
       "    <tr>\n",
       "      <th>0</th>\n",
       "      <td>Aceh</td>\n",
       "      <td>Banda Aceh</td>\n",
       "      <td>86</td>\n",
       "      <td>4</td>\n",
       "      <td>0</td>\n",
       "    </tr>\n",
       "    <tr>\n",
       "      <th>1</th>\n",
       "      <td>Bali</td>\n",
       "      <td>Denpasar</td>\n",
       "      <td>738</td>\n",
       "      <td>9</td>\n",
       "      <td>2</td>\n",
       "    </tr>\n",
       "    <tr>\n",
       "      <th>2</th>\n",
       "      <td>Banten</td>\n",
       "      <td>Serang</td>\n",
       "      <td>1298</td>\n",
       "      <td>84</td>\n",
       "      <td>4</td>\n",
       "    </tr>\n",
       "    <tr>\n",
       "      <th>3</th>\n",
       "      <td>Bengkulu</td>\n",
       "      <td>Bengkulu</td>\n",
       "      <td>93</td>\n",
       "      <td>0</td>\n",
       "      <td>0</td>\n",
       "    </tr>\n",
       "    <tr>\n",
       "      <th>4</th>\n",
       "      <td>DI Yogyakarta</td>\n",
       "      <td>Yogyakarta</td>\n",
       "      <td>1134</td>\n",
       "      <td>22</td>\n",
       "      <td>2</td>\n",
       "    </tr>\n",
       "  </tbody>\n",
       "</table>\n",
       "</div>"
      ],
      "text/plain": [
       "    province_name capital_city  population_kmsquare  confirmed  deceased\n",
       "0            Aceh   Banda Aceh                   86          4         0\n",
       "1            Bali     Denpasar                  738          9         2\n",
       "2          Banten       Serang                 1298         84         4\n",
       "3        Bengkulu     Bengkulu                   93          0         0\n",
       "4   DI Yogyakarta   Yogyakarta                 1134         22         2"
      ]
     },
     "execution_count": 163,
     "metadata": {},
     "output_type": "execute_result"
    }
   ],
   "source": [
    "dtLR = dataset.copy()\n",
    "print(dtLR.shape)\n",
    "dtLR.head()"
   ]
  },
  {
   "cell_type": "markdown",
   "id": "ea7c1700-c919-4edb-b562-9608ab5ac340",
   "metadata": {},
   "source": [
    "Konversi kolom ke tipe numerik, ganti nilai error dengan NaN"
   ]
  },
  {
   "cell_type": "code",
   "execution_count": 164,
   "id": "e6464309-0fae-4d64-aa72-30a9e773a35a",
   "metadata": {},
   "outputs": [],
   "source": [
    "dataset_numeric = dataset.apply(lambda col: pd.to_numeric(col, errors='coerce'))"
   ]
  },
  {
   "cell_type": "markdown",
   "id": "51d84584-744f-442b-b76d-bb24ed745178",
   "metadata": {},
   "source": [
    "Hapus kolom yang seluruhnya berisi NaN"
   ]
  },
  {
   "cell_type": "code",
   "execution_count": 165,
   "id": "c5db4998-92bf-495c-a321-ab79e94fca70",
   "metadata": {},
   "outputs": [],
   "source": [
    "dataset_numeric = dataset_numeric.dropna(axis=1, how='all')"
   ]
  },
  {
   "cell_type": "markdown",
   "id": "e11655a8-6ec2-4c2c-8686-bcadd828a08d",
   "metadata": {},
   "source": [
    "Hapus baris yang mengandung NaN"
   ]
  },
  {
   "cell_type": "code",
   "execution_count": 166,
   "id": "d43e1d4e-cccf-4787-a029-63103e568dcf",
   "metadata": {},
   "outputs": [],
   "source": [
    "dataset_cleaned = dataset_numeric.dropna()"
   ]
  },
  {
   "cell_type": "markdown",
   "id": "e7358529-b989-484b-9dfd-0a2a6c5fc7f1",
   "metadata": {},
   "source": [
    "Membuat heatmap dengan data yang telah dibersihkan"
   ]
  },
  {
   "cell_type": "code",
   "execution_count": 167,
   "id": "51945c6c-4054-467c-85c6-1ca3ff6ea447",
   "metadata": {},
   "outputs": [
    {
     "data": {
      "image/png": "[encoded data removed]",
      "text/plain": [
       "<Figure size 1200x1000 with 2 Axes>"
      ]
     },
     "metadata": {},
     "output_type": "display_data"
    }
   ],
   "source": [
    "plt.figure(figsize=(12, 10))\n",
    "p = sns.heatmap(dataset_cleaned.corr(), annot=True, cmap='RdYlGn')\n",
    "plt.show()"
   ]
  },
  {
   "cell_type": "markdown",
   "id": "ddd80b03-e79a-4630-88de-28fc55cbb3b7",
   "metadata": {},
   "source": [
    "Sintak Dibawah Ini Digunakn Untuk Menghapus Kolom-Kolom Yang Memiliki Relasi Paling Kecil."
   ]
  },
  {
   "cell_type": "code",
   "execution_count": 168,
   "id": "7f631507-947a-46b5-b3b6-8b50c4cb3af3",
   "metadata": {},
   "outputs": [
    {
     "data": {
      "text/html": [
       "<div>\n",
       "<style scoped>\n",
       "    .dataframe tbody tr th:only-of-type {\n",
       "        vertical-align: middle;\n",
       "    }\n",
       "\n",
       "    .dataframe tbody tr th {\n",
       "        vertical-align: top;\n",
       "    }\n",
       "\n",
       "    .dataframe thead th {\n",
       "        text-align: right;\n",
       "    }\n",
       "</style>\n",
       "<table border=\"1\" class=\"dataframe\">\n",
       "  <thead>\n",
       "    <tr style=\"text-align: right;\">\n",
       "      <th></th>\n",
       "      <th>confirmed</th>\n",
       "      <th>deceased</th>\n",
       "    </tr>\n",
       "  </thead>\n",
       "  <tbody>\n",
       "    <tr>\n",
       "      <th>0</th>\n",
       "      <td>4</td>\n",
       "      <td>0</td>\n",
       "    </tr>\n",
       "    <tr>\n",
       "      <th>1</th>\n",
       "      <td>9</td>\n",
       "      <td>2</td>\n",
       "    </tr>\n",
       "    <tr>\n",
       "      <th>2</th>\n",
       "      <td>84</td>\n",
       "      <td>4</td>\n",
       "    </tr>\n",
       "    <tr>\n",
       "      <th>3</th>\n",
       "      <td>0</td>\n",
       "      <td>0</td>\n",
       "    </tr>\n",
       "    <tr>\n",
       "      <th>4</th>\n",
       "      <td>22</td>\n",
       "      <td>2</td>\n",
       "    </tr>\n",
       "  </tbody>\n",
       "</table>\n",
       "</div>"
      ],
      "text/plain": [
       "   confirmed  deceased\n",
       "0          4         0\n",
       "1          9         2\n",
       "2         84         4\n",
       "3          0         0\n",
       "4         22         2"
      ]
     },
     "execution_count": 168,
     "metadata": {},
     "output_type": "execute_result"
    }
   ],
   "source": [
    "dtLR = dtLR.drop(['province_name','capital_city','population_kmsquare'], axis=1)\n",
    "dtLR.head(5)"
   ]
  },
  {
   "cell_type": "markdown",
   "id": "b3f63447-6dc4-464a-a287-b541b7fa1859",
   "metadata": {},
   "source": [
    "Lalu Kita Pisahkan Data Ke Dalam Variabel X Dan Y Untuk Proses Analisa Linear Regresi."
   ]
  },
  {
   "cell_type": "code",
   "execution_count": 169,
   "id": "72c4cb66-8a56-4fa1-ad2a-763fea002084",
   "metadata": {},
   "outputs": [],
   "source": [
    "#-----Proses linear regression\n",
    "X_LR=dtLR.iloc[:, :-1].values\n",
    "Y_LR=dtLR.iloc[:, 1].values"
   ]
  },
  {
   "cell_type": "markdown",
   "id": "c9325033-3d76-44e6-82b3-cca8889d9750",
   "metadata": {},
   "source": [
    "Sintak Dibawah Ini Digunakan Untuk Mendefinisikan Data Testing Dan Training Yang Digunakan."
   ]
  },
  {
   "cell_type": "code",
   "execution_count": 170,
   "id": "b4f71d9f-d11c-4f0f-baaa-0e10de77acf3",
   "metadata": {},
   "outputs": [],
   "source": [
    "from sklearn.model_selection import train_test_split\n",
    "X_train_1, X_test_1, y_train_1, y_test_1 = train_test_split(X_LR, Y_LR, test_size = 0.20, random_state = 0)"
   ]
  },
  {
   "cell_type": "markdown",
   "id": "0e1c8d20-adc8-4ca5-b0e7-76e15fea1905",
   "metadata": {},
   "source": [
    "Deklarasikan Sintak Untuk Linear Regresi Tersebut Serta Panggil Data Training Yang Digunakan."
   ]
  },
  {
   "cell_type": "code",
   "execution_count": 171,
   "id": "11fbe134-2820-44d5-9b88-c7eb4a1c776f",
   "metadata": {},
   "outputs": [
    {
     "data": {
      "text/html": [
       "<style>#sk-container-id-3 {color: black;background-color: white;}#sk-container-id-3 pre{padding: 0;}#sk-container-id-3 div.sk-toggleable {background-color: white;}#sk-container-id-3 label.sk-toggleable__label {cursor: pointer;display: block;width: 100%;margin-bottom: 0;padding: 0.3em;box-sizing: border-box;text-align: center;}#sk-container-id-3 label.sk-toggleable__label-arrow:before {content: \"▸\";float: left;margin-right: 0.25em;color: #696969;}#sk-container-id-3 label.sk-toggleable__label-arrow:hover:before {color: black;}#sk-container-id-3 div.sk-estimator:hover label.sk-toggleable__label-arrow:before {color: black;}#sk-container-id-3 div.sk-toggleable__content {max-height: 0;max-width: 0;overflow: hidden;text-align: left;background-color: #f0f8ff;}#sk-container-id-3 div.sk-toggleable__content pre {margin: 0.2em;color: black;border-radius: 0.25em;background-color: #f0f8ff;}#sk-container-id-3 input.sk-toggleable__control:checked~div.sk-toggleable__content {max-height: 200px;max-width: 100%;overflow: auto;}#sk-container-id-3 input.sk-toggleable__control:checked~label.sk-toggleable__label-arrow:before {content: \"▾\";}#sk-container-id-3 div.sk-estimator input.sk-toggleable__control:checked~label.sk-toggleable__label {background-color: #d4ebff;}#sk-container-id-3 div.sk-label input.sk-toggleable__control:checked~label.sk-toggleable__label {background-color: #d4ebff;}#sk-container-id-3 input.sk-hidden--visually {border: 0;clip: rect(1px 1px 1px 1px);clip: rect(1px, 1px, 1px, 1px);height: 1px;margin: -1px;overflow: hidden;padding: 0;position: absolute;width: 1px;}#sk-container-id-3 div.sk-estimator {font-family: monospace;background-color: #f0f8ff;border: 1px dotted black;border-radius: 0.25em;box-sizing: border-box;margin-bottom: 0.5em;}#sk-container-id-3 div.sk-estimator:hover {background-color: #d4ebff;}#sk-container-id-3 div.sk-parallel-item::after {content: \"\";width: 100%;border-bottom: 1px solid gray;flex-grow: 1;}#sk-container-id-3 div.sk-label:hover label.sk-toggleable__label {background-color: #d4ebff;}#sk-container-id-3 div.sk-serial::before {content: \"\";position: absolute;border-left: 1px solid gray;box-sizing: border-box;top: 0;bottom: 0;left: 50%;z-index: 0;}#sk-container-id-3 div.sk-serial {display: flex;flex-direction: column;align-items: center;background-color: white;padding-right: 0.2em;padding-left: 0.2em;position: relative;}#sk-container-id-3 div.sk-item {position: relative;z-index: 1;}#sk-container-id-3 div.sk-parallel {display: flex;align-items: stretch;justify-content: center;background-color: white;position: relative;}#sk-container-id-3 div.sk-item::before, #sk-container-id-3 div.sk-parallel-item::before {content: \"\";position: absolute;border-left: 1px solid gray;box-sizing: border-box;top: 0;bottom: 0;left: 50%;z-index: -1;}#sk-container-id-3 div.sk-parallel-item {display: flex;flex-direction: column;z-index: 1;position: relative;background-color: white;}#sk-container-id-3 div.sk-parallel-item:first-child::after {align-self: flex-end;width: 50%;}#sk-container-id-3 div.sk-parallel-item:last-child::after {align-self: flex-start;width: 50%;}#sk-container-id-3 div.sk-parallel-item:only-child::after {width: 0;}#sk-container-id-3 div.sk-dashed-wrapped {border: 1px dashed gray;margin: 0 0.4em 0.5em 0.4em;box-sizing: border-box;padding-bottom: 0.4em;background-color: white;}#sk-container-id-3 div.sk-label label {font-family: monospace;font-weight: bold;display: inline-block;line-height: 1.2em;}#sk-container-id-3 div.sk-label-container {text-align: center;}#sk-container-id-3 div.sk-container {/* jupyter's `normalize.less` sets `[hidden] { display: none; }` but bootstrap.min.css set `[hidden] { display: none !important; }` so we also need the `!important` here to be able to override the default hidden behavior on the sphinx rendered scikit-learn.org. See: https://github.com/scikit-learn/scikit-learn/issues/21755 */display: inline-block !important;position: relative;}#sk-container-id-3 div.sk-text-repr-fallback {display: none;}</style><div id=\"sk-container-id-3\" class=\"sk-top-container\"><div class=\"sk-text-repr-fallback\"><pre>LinearRegression()</pre><b>In a Jupyter environment, please rerun this cell to show the HTML representation or trust the notebook. <br />On GitHub, the HTML representation is unable to render, please try loading this page with nbviewer.org.</b></div><div class=\"sk-container\" hidden><div class=\"sk-item\"><div class=\"sk-estimator sk-toggleable\"><input class=\"sk-toggleable__control sk-hidden--visually\" id=\"sk-estimator-id-3\" type=\"checkbox\" checked><label for=\"sk-estimator-id-3\" class=\"sk-toggleable__label sk-toggleable__label-arrow\">LinearRegression</label><div class=\"sk-toggleable__content\"><pre>LinearRegression()</pre></div></div></div></div></div>"
      ],
      "text/plain": [
       "LinearRegression()"
      ]
     },
     "execution_count": 171,
     "metadata": {},
     "output_type": "execute_result"
    }
   ],
   "source": [
    "from sklearn.linear_model import LinearRegression\n",
    "regressor = LinearRegression()\n",
    "regressor.fit(X_train_1, y_train_1)"
   ]
  },
  {
   "cell_type": "markdown",
   "id": "deccc006-3183-407d-84d8-417e01217f26",
   "metadata": {},
   "source": [
    "Sintak Dibawah Ini Digunakan Untuk Melakukan Proses Prediksi Data Testing Yang Kita Gunakan."
   ]
  },
  {
   "cell_type": "code",
   "execution_count": 172,
   "id": "13567671-288a-4d61-81c4-001d7c617464",
   "metadata": {},
   "outputs": [],
   "source": [
    "pred = regressor.predict(X_test_1)"
   ]
  },
  {
   "cell_type": "markdown",
   "id": "321872c6-d78c-4a60-9288-4fda925f50cb",
   "metadata": {},
   "source": [
    "Lalu Kita Gambarkan Sebaran Data Dan Hubungan Antar Kolom Dari Kolom Confirmed Dan Deceased."
   ]
  },
  {
   "cell_type": "code",
   "execution_count": 173,
   "id": "a46f2eed-9011-444e-bd34-d10e340d3519",
   "metadata": {},
   "outputs": [
    {
     "data": {
      "image/png": "[encoded data removed]",
      "text/plain": [
       "<Figure size 640x480 with 1 Axes>"
      ]
     },
     "metadata": {},
     "output_type": "display_data"
    }
   ],
   "source": [
    "plt.scatter(X_test_1, y_test_1, color = 'red')\n",
    "plt.plot(X_train_1, regressor.predict(X_train_1), color = 'blue' )\n",
    "plt.title('confirmed vs deceased')\n",
    "plt.xlabel('confirmed')\n",
    "plt.ylabel('deceased')\n",
    "plt.show()"
   ]
  },
  {
   "cell_type": "code",
   "execution_count": null,
   "id": "a3810eeb-0b9a-4c78-9eaf-499df9f2b70e",
   "metadata": {},
   "outputs": [],
   "source": []
  }
 ],
 "metadata": {
  "kernelspec": {
   "display_name": "Python 3 (ipykernel)",
   "language": "python",
   "name": "python3"
  },
  "language_info": {
   "codemirror_mode": {
    "name": "ipython",
    "version": 3
   },
   "file_extension": ".py",
   "mimetype": "text/x-python",
   "name": "python",
   "nbconvert_exporter": "python",
   "pygments_lexer": "ipython3",
   "version": "3.11.7"
  }
 },
 "nbformat": 4,
 "nbformat_minor": 5
}
